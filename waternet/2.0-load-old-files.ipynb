{
 "cells": [
  {
   "cell_type": "code",
   "execution_count": 9,
   "id": "fe45de28-b64a-4bd9-9972-fca37ab2d166",
   "metadata": {},
   "outputs": [],
   "source": [
    "import torch\n",
    "import torch.nn as nn\n",
    "import torch.nn.functional as F"
   ]
  },
  {
   "cell_type": "code",
   "execution_count": 176,
   "id": "b0b32c08-bfbf-4513-9056-6f296c16f9ec",
   "metadata": {},
   "outputs": [],
   "source": [
    "import shutil"
   ]
  },
  {
   "cell_type": "code",
   "execution_count": 16,
   "id": "32e47627-023c-4f10-ae0a-69351c1e0503",
   "metadata": {},
   "outputs": [],
   "source": [
    "import pickle\n",
    "from PIL import Image\n",
    "import numpy as np"
   ]
  },
  {
   "cell_type": "code",
   "execution_count": 109,
   "id": "44b76f45-18ae-4e06-8ef4-acb4284bd983",
   "metadata": {},
   "outputs": [],
   "source": [
    "from einops import rearrange\n",
    "from net import WaterNet\n",
    "from pathlib import Path\n",
    "from IPython.display import display"
   ]
  },
  {
   "cell_type": "code",
   "execution_count": 170,
   "id": "91acffbc-a49f-4c45-b6f4-b5ed09a7e11d",
   "metadata": {},
   "outputs": [],
   "source": [
    "from tqdm import tqdm"
   ]
  },
  {
   "cell_type": "code",
   "execution_count": 141,
   "id": "e99e05fd-8255-4f9c-8481-e862ac759b9f",
   "metadata": {},
   "outputs": [],
   "source": [
    "import matplotlib.pyplot as plt\n",
    "%matplotlib inline"
   ]
  },
  {
   "cell_type": "markdown",
   "id": "df789601-626d-4d1a-a15f-78cbc00c638c",
   "metadata": {},
   "source": [
    "## Load weights"
   ]
  },
  {
   "cell_type": "code",
   "execution_count": 3,
   "id": "684dc8a1-ac2e-4c62-a7a0-57427d06d1cb",
   "metadata": {},
   "outputs": [],
   "source": [
    "waternet = WaterNet()"
   ]
  },
  {
   "cell_type": "code",
   "execution_count": 5,
   "id": "85ba792a-b007-434c-832f-fdffd257e416",
   "metadata": {},
   "outputs": [],
   "source": [
    "with open(\"../assets/waternet-exported-state-dict.pkl\", \"rb\") as f:\n",
    "    exported_sd = pickle.load(f)"
   ]
  },
  {
   "cell_type": "code",
   "execution_count": 7,
   "id": "c9f0652d-febc-4751-9552-f542e850ab8f",
   "metadata": {},
   "outputs": [
    {
     "data": {
      "text/plain": [
       "<All keys matched successfully>"
      ]
     },
     "execution_count": 7,
     "metadata": {},
     "output_type": "execute_result"
    }
   ],
   "source": [
    "waternet.load_state_dict(exported_sd)"
   ]
  },
  {
   "cell_type": "code",
   "execution_count": 11,
   "id": "be6dc633-6ea7-4fd8-adc0-6c25839be09a",
   "metadata": {},
   "outputs": [],
   "source": [
    "torch.save(waternet.state_dict(), \"../assets/waternet-exported-state-dict.pt\")"
   ]
  },
  {
   "cell_type": "markdown",
   "id": "bab314b8-13d8-41f5-a43d-fb80ff6ce09c",
   "metadata": {},
   "source": [
    "## Test on sample image(s)"
   ]
  },
  {
   "cell_type": "code",
   "execution_count": 90,
   "id": "12004c36-d1b3-4f06-b5c7-7865a372df7b",
   "metadata": {},
   "outputs": [],
   "source": [
    "def im2ten(imdir):\n",
    "    return torch.from_numpy(np.array(Image.open(imdir))) / 255"
   ]
  },
  {
   "cell_type": "code",
   "execution_count": 98,
   "id": "e3caf969-2ca6-4962-ab62-7a631ed736a3",
   "metadata": {},
   "outputs": [],
   "source": [
    "def ten2im(ten):\n",
    "    # CHW\n",
    "    arr = ten.detach().numpy()\n",
    "    arr = np.clip(arr, 0, 1)\n",
    "    arr = (arr * 255).astype(np.uint8)\n",
    "    arr = rearrange(arr, \"c h w -> h w c\")\n",
    "    return Image.fromarray(arr)"
   ]
  },
  {
   "cell_type": "code",
   "execution_count": 155,
   "id": "a23eb828-02c4-49d7-8e3e-cc9f77f92079",
   "metadata": {},
   "outputs": [],
   "source": [
    "def ten2arr(ten):\n",
    "    # CHW\n",
    "    arr = ten.detach().numpy()\n",
    "    arr = np.clip(arr, 0, 1)\n",
    "    arr = (arr * 255).astype(np.uint8)\n",
    "    arr = rearrange(arr, \"c h w -> h w c\")\n",
    "    return arr"
   ]
  },
  {
   "cell_type": "code",
   "execution_count": 168,
   "id": "13ee9ef6-9ca0-4b82-83c8-09c3f8f40d08",
   "metadata": {},
   "outputs": [],
   "source": [
    "rawdir = Path(\"../data/bundled/input_train/\")\n",
    "wbdir = Path(\"../data/bundled/input_wb_train/\")\n",
    "cedir = Path(\"../data/bundled/input_ce_train/\")\n",
    "gcdir = Path(\"../data/bundled/input_gc_train/\")\n",
    "gtdir = Path(\"../data/bundled/gt_train/\")"
   ]
  },
  {
   "cell_type": "code",
   "execution_count": 157,
   "id": "53652fa1-cba5-4504-9e22-2f2806242535",
   "metadata": {},
   "outputs": [],
   "source": [
    "imname = \"10_img_.jpg\""
   ]
  },
  {
   "cell_type": "code",
   "execution_count": 158,
   "id": "eaa547ea-b592-46fb-b538-33080c925ffe",
   "metadata": {},
   "outputs": [],
   "source": [
    "raw = im2ten(rawdir / imname)\n",
    "wb = im2ten(wbdir / imname)\n",
    "ce = im2ten(cedir / imname)\n",
    "gc = im2ten(gcdir / imname)"
   ]
  },
  {
   "cell_type": "code",
   "execution_count": 159,
   "id": "1678a7df-0f36-4f69-a830-6110ec1d08bf",
   "metadata": {},
   "outputs": [],
   "source": [
    "raw_ten = rearrange(raw, \"h w c -> 1 c h w\")\n",
    "wb_ten = rearrange(wb, \"h w c -> 1 c h w\")\n",
    "ce_ten = rearrange(ce, \"h w c -> 1 c h w\")\n",
    "gc_ten = rearrange(gc, \"h w c -> 1 c h w\")"
   ]
  },
  {
   "cell_type": "code",
   "execution_count": 160,
   "id": "66acb037-21bb-4279-9a33-1eb9b2783d18",
   "metadata": {},
   "outputs": [],
   "source": [
    "out = waternet(raw_ten, wb_ten, ce_ten, gc_ten)\n",
    "# torch.Size([1, 3, 112, 112])"
   ]
  },
  {
   "cell_type": "code",
   "execution_count": 164,
   "id": "baa5e94d-f071-4970-9f1d-aa1d875ed043",
   "metadata": {},
   "outputs": [],
   "source": [
    "out_im = Image.fromarray(ten2arr(out[0]))"
   ]
  },
  {
   "cell_type": "code",
   "execution_count": 165,
   "id": "8a6f61e6-999a-4c28-9034-d1a465344f20",
   "metadata": {},
   "outputs": [
    {
     "data": {
      "image/png": "[encoded data removed]",
      "text/plain": [
       "<PIL.Image.Image image mode=RGB size=112x112 at 0x7F53B5640040>"
      ]
     },
     "metadata": {},
     "output_type": "display_data"
    }
   ],
   "source": [
    "display(out_im)"
   ]
  },
  {
   "cell_type": "code",
   "execution_count": 166,
   "id": "f623660b-c316-4049-b9f3-2a47fe5e6c84",
   "metadata": {},
   "outputs": [],
   "source": [
    "gt = Image.open(gtdir / imname)"
   ]
  },
  {
   "cell_type": "code",
   "execution_count": 167,
   "id": "fad73c3f-dfba-4aa4-ad11-7e7b9b39a9b2",
   "metadata": {},
   "outputs": [
    {
     "data": {
      "image/png": "[encoded data removed]",
      "text/plain": [
       "<PIL.JpegImagePlugin.JpegImageFile image mode=RGB size=112x112 at 0x7F53B58FD6D0>"
      ]
     },
     "metadata": {},
     "output_type": "display_data"
    }
   ],
   "source": [
    "display(gt)"
   ]
  },
  {
   "cell_type": "markdown",
   "id": "a92a3fa3-3f33-46f9-8556-6b991a538ceb",
   "metadata": {},
   "source": [
    "### Run on all"
   ]
  },
  {
   "cell_type": "code",
   "execution_count": 182,
   "id": "e196eac0-ef16-4165-8e98-8602a4cfa526",
   "metadata": {},
   "outputs": [],
   "source": [
    "rawdir = Path(\"../data/bundled/input_test/\")\n",
    "wbdir = Path(\"../data/bundled/input_wb_test/\")\n",
    "cedir = Path(\"../data/bundled/input_ce_test/\")\n",
    "gcdir = Path(\"../data/bundled/input_gc_test/\")\n",
    "gtdir = Path(\"../data/bundled/gt_test/\")"
   ]
  },
  {
   "cell_type": "code",
   "execution_count": 183,
   "id": "11407624-c4f7-4df9-8c5b-d2909130f666",
   "metadata": {},
   "outputs": [],
   "source": [
    "list_of_imnames = sorted(\n",
    "    [i.name for i in rawdir.glob(\"*\")], \n",
    "    key=lambda x: int(x.split(\"_\")[0])\n",
    ")"
   ]
  },
  {
   "cell_type": "code",
   "execution_count": 184,
   "id": "a7d16dd2-a590-4264-9d4d-282781afe426",
   "metadata": {},
   "outputs": [],
   "source": [
    "outdir = Path(\"../output/test-exported-model/\")"
   ]
  },
  {
   "cell_type": "code",
   "execution_count": 185,
   "id": "efbb826a-8eed-4834-a82c-ea25d4239f8c",
   "metadata": {},
   "outputs": [],
   "source": [
    "if outdir.exists():\n",
    "    shutil.rmtree(outdir)"
   ]
  },
  {
   "cell_type": "code",
   "execution_count": 186,
   "id": "be9aee5b-d224-4d07-a517-8c4e14d331cd",
   "metadata": {},
   "outputs": [],
   "source": [
    "if not outdir.exists():\n",
    "    outdir.mkdir(parents=True)"
   ]
  },
  {
   "cell_type": "code",
   "execution_count": 187,
   "id": "0a7f726c-0065-45de-86c1-3d46ed4f8e47",
   "metadata": {},
   "outputs": [
    {
     "name": "stderr",
     "output_type": "stream",
     "text": [
      "100%|███████████████████████████████████████████████████████████████████████████████████| 90/90 [00:27<00:00,  3.29it/s]\n"
     ]
    }
   ],
   "source": [
    "for imname in tqdm(list_of_imnames, dynamic_ncols=True):   \n",
    "    raw = im2ten(rawdir / imname)\n",
    "    wb = im2ten(wbdir / imname)\n",
    "    ce = im2ten(cedir / imname)\n",
    "    gc = im2ten(gcdir / imname)\n",
    "    \n",
    "    raw_ten = rearrange(raw, \"h w c -> 1 c h w\")\n",
    "    wb_ten = rearrange(wb, \"h w c -> 1 c h w\")\n",
    "    ce_ten = rearrange(ce, \"h w c -> 1 c h w\")\n",
    "    gc_ten = rearrange(gc, \"h w c -> 1 c h w\")\n",
    "    \n",
    "    out = waternet(raw_ten, wb_ten, ce_ten, gc_ten)\n",
    "    out_im = ten2arr(out[0])\n",
    "    \n",
    "    gt = np.array(Image.open(gtdir / imname))\n",
    "    \n",
    "    fig, ax = plt.subplots(ncols=2, figsize=(10, 5))\n",
    "    ax[0].imshow(out_im)\n",
    "    ax[1].imshow(gt)\n",
    "    \n",
    "    ax[0].set_title(\"Predicted\")\n",
    "    ax[1].set_title(\"Actual\")\n",
    "    \n",
    "    fig.suptitle(imname)\n",
    "    \n",
    "    plt.tight_layout()\n",
    "    \n",
    "    plt.savefig(outdir / f\"{imname}\", bbox_inches=\"tight\", facecolor=\"white\")\n",
    "    \n",
    "    plt.close(fig)"
   ]
  },
  {
   "cell_type": "code",
   "execution_count": null,
   "id": "df6a30b6-4ede-47cd-8f69-303f633a261d",
   "metadata": {},
   "outputs": [],
   "source": []
  }
 ],
 "metadata": {
  "kernelspec": {
   "display_name": "Python [conda env:dolphin]",
   "language": "python",
   "name": "conda-env-dolphin-py"
  },
  "language_info": {
   "codemirror_mode": {
    "name": "ipython",
    "version": 3
   },
   "file_extension": ".py",
   "mimetype": "text/x-python",
   "name": "python",
   "nbconvert_exporter": "python",
   "pygments_lexer": "ipython3",
   "version": "3.8.12"
  }
 },
 "nbformat": 4,
 "nbformat_minor": 5
}
