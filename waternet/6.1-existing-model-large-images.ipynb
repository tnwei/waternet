{
 "cells": [
  {
   "cell_type": "markdown",
   "id": "51c73ae9-f883-4366-9d5c-ee40ed0371bc",
   "metadata": {},
   "source": [
    "+ 6.1: Inference on videos"
   ]
  },
  {
   "cell_type": "code",
   "execution_count": 1,
   "id": "ba423613-d7c3-4d0e-923b-ddca5fee4580",
   "metadata": {},
   "outputs": [],
   "source": [
    "from net import WaterNet\n",
    "from data import transform\n",
    "import cv2\n",
    "from pathlib import Path\n",
    "import torch\n",
    "import numpy as np\n",
    "from einops import rearrange\n",
    "import pickle\n",
    "import random"
   ]
  },
  {
   "cell_type": "code",
   "execution_count": 2,
   "id": "e99e05fd-8255-4f9c-8481-e862ac759b9f",
   "metadata": {},
   "outputs": [],
   "source": [
    "import matplotlib.pyplot as plt\n",
    "%matplotlib inline"
   ]
  },
  {
   "cell_type": "markdown",
   "id": "ca986994-6406-4899-9a3d-0b1b0f7c0a44",
   "metadata": {},
   "source": [
    "## Util fxns"
   ]
  },
  {
   "cell_type": "code",
   "execution_count": 3,
   "id": "189cb2f9-ce3c-4429-8c4a-57b64a9d5c2a",
   "metadata": {},
   "outputs": [],
   "source": [
    "def arr2ten(arr):\n",
    "    \"\"\"Convert arr2ten plus scaling\"\"\"\n",
    "    ten = torch.from_numpy(arr) / 255\n",
    "    ten = rearrange(ten, \"h w c -> 1 c h w\")\n",
    "    return ten\n",
    "\n",
    "def ten2arr(ten):\n",
    "    \"\"\"Convert ten2arr plus scaling\"\"\"\n",
    "    arr = ten.cpu().detach().numpy()\n",
    "    arr = np.clip(arr, 0, 1)\n",
    "    arr = (arr * 255).astype(np.uint8)\n",
    "    arr = rearrange(arr, \"c h w -> h w c\")\n",
    "    return arr"
   ]
  },
  {
   "cell_type": "markdown",
   "id": "df789601-626d-4d1a-a15f-78cbc00c638c",
   "metadata": {},
   "source": [
    "## Load weights"
   ]
  },
  {
   "cell_type": "code",
   "execution_count": 4,
   "id": "eef6e52a-af17-4032-bc55-1ab0bec29c98",
   "metadata": {},
   "outputs": [
    {
     "data": {
      "text/plain": [
       "<All keys matched successfully>"
      ]
     },
     "execution_count": 4,
     "metadata": {},
     "output_type": "execute_result"
    }
   ],
   "source": [
    "waternet = WaterNet()\n",
    "\n",
    "with open(\"../assets/waternet-exported-state-dict.pt\", \"rb\") as f:\n",
    "    exported_sd = torch.load(f)\n",
    "\n",
    "waternet.load_state_dict(exported_sd)"
   ]
  },
  {
   "cell_type": "code",
   "execution_count": 5,
   "id": "46f2e3d9-b14c-486f-bda8-0b741807b251",
   "metadata": {},
   "outputs": [
    {
     "name": "stdout",
     "output_type": "stream",
     "text": [
      "cuda\n"
     ]
    }
   ],
   "source": [
    "device = \"cuda\" if torch.cuda.is_available() else \"cpu\"\n",
    "print(device)"
   ]
  },
  {
   "cell_type": "code",
   "execution_count": 6,
   "id": "f6aa6c0f-444a-4aa9-83fa-6bf116e17271",
   "metadata": {},
   "outputs": [],
   "source": [
    "waternet = waternet.to(device)\n",
    "waternet.eval();"
   ]
  },
  {
   "cell_type": "markdown",
   "id": "bab314b8-13d8-41f5-a43d-fb80ff6ce09c",
   "metadata": {},
   "source": [
    "## Video in / out setup"
   ]
  },
  {
   "cell_type": "code",
   "execution_count": 7,
   "id": "9ca82291-e5aa-482e-8e96-08b395b7d26d",
   "metadata": {},
   "outputs": [],
   "source": [
    "srcvids = list(Path(\"../data/internet/\").glob(\"*.mp4\"))"
   ]
  },
  {
   "cell_type": "code",
   "execution_count": 8,
   "id": "93b82b0c-0f11-44fb-9f67-e50c1cd8aa06",
   "metadata": {},
   "outputs": [
    {
     "data": {
      "text/plain": [
       "[PosixPath('../data/internet/StationMBackground.mp4'),\n",
       " PosixPath('../data/internet/2022-05-15 00-15-59_Trim.mp4'),\n",
       " PosixPath('../data/internet/2022-05-15 00-15-28_Trim.mp4'),\n",
       " PosixPath('../data/internet/Australian Mesophotic Coral Examination - 4K ROV Highlights - FK210409 - 1.mp4'),\n",
       " PosixPath('../data/internet/Deep Sea Corals of PIPA - 4K ROV Highlights - Blunt Nose Sixgill Shark - FK171005.mp4'),\n",
       " PosixPath('../data/internet/2022-05-15 00-14-32_Trim.mp4'),\n",
       " PosixPath('../data/internet/ROV SuBastian Dive 163 - Point Dume Seep - Backyard Deep - 1.mp4'),\n",
       " PosixPath('../data/internet/2022-05-15 00-19-09_Trim.mp4'),\n",
       " PosixPath('../data/internet/Australian Mesophotic Coral Examination - 4K ROV Highlights - FK210409 - 2.mp4'),\n",
       " PosixPath('../data/internet/ROV Dive 419 - Seamount Exploration - World Ocean Day - Part 3.mp4')]"
      ]
     },
     "execution_count": 8,
     "metadata": {},
     "output_type": "execute_result"
    }
   ],
   "source": [
    "srcvids"
   ]
  },
  {
   "cell_type": "code",
   "execution_count": 9,
   "id": "10e4bc08-6d22-4dbd-b4ab-d57f2d4d3a54",
   "metadata": {},
   "outputs": [],
   "source": [
    "if not Path(\"../output/internet/\").exists():\n",
    "    Path(\"../output/internet/\").mkdir()"
   ]
  },
  {
   "cell_type": "code",
   "execution_count": 10,
   "id": "785bb50b-c8ef-4090-b8f1-25df8806406a",
   "metadata": {},
   "outputs": [
    {
     "name": "stdout",
     "output_type": "stream",
     "text": [
      "Starting video StationMBackground.mp4\n",
      "Processed 50 frames\n",
      "Processed 100 frames\n",
      "Processed 150 frames\n",
      "Processed 200 frames\n",
      "Processed 250 frames\n",
      "Processed 300 frames\n",
      "Processed 350 frames\n",
      "Finished video StationMBackground.mp4\n",
      "Starting video 2022-05-15 00-15-59_Trim.mp4\n",
      "Processed 50 frames\n",
      "Processed 100 frames\n",
      "Processed 150 frames\n",
      "Processed 200 frames\n",
      "Finished video 2022-05-15 00-15-59_Trim.mp4\n",
      "Starting video 2022-05-15 00-15-28_Trim.mp4\n",
      "Processed 50 frames\n",
      "Processed 100 frames\n",
      "Finished video 2022-05-15 00-15-28_Trim.mp4\n",
      "Starting video Australian Mesophotic Coral Examination - 4K ROV Highlights - FK210409 - 1.mp4\n",
      "Finished video Australian Mesophotic Coral Examination - 4K ROV Highlights - FK210409 - 1.mp4\n",
      "Starting video Deep Sea Corals of PIPA - 4K ROV Highlights - Blunt Nose Sixgill Shark - FK171005.mp4\n",
      "Processed 50 frames\n",
      "Processed 100 frames\n",
      "Processed 150 frames\n",
      "Processed 200 frames\n",
      "Processed 250 frames\n",
      "Processed 300 frames\n",
      "Processed 350 frames\n",
      "Processed 400 frames\n",
      "Processed 450 frames\n",
      "Processed 500 frames\n",
      "Processed 550 frames\n",
      "Processed 600 frames\n",
      "Processed 650 frames\n",
      "Processed 700 frames\n",
      "Processed 750 frames\n",
      "Finished video Deep Sea Corals of PIPA - 4K ROV Highlights - Blunt Nose Sixgill Shark - FK171005.mp4\n",
      "Starting video 2022-05-15 00-14-32_Trim.mp4\n",
      "Processed 50 frames\n",
      "Processed 100 frames\n",
      "Processed 150 frames\n",
      "Finished video 2022-05-15 00-14-32_Trim.mp4\n",
      "Starting video ROV SuBastian Dive 163 - Point Dume Seep - Backyard Deep - 1.mp4\n",
      "Processed 50 frames\n",
      "Processed 100 frames\n",
      "Processed 150 frames\n",
      "Processed 200 frames\n",
      "Processed 250 frames\n",
      "Processed 300 frames\n",
      "Processed 350 frames\n",
      "Finished video ROV SuBastian Dive 163 - Point Dume Seep - Backyard Deep - 1.mp4\n",
      "Starting video 2022-05-15 00-19-09_Trim.mp4\n",
      "Processed 50 frames\n",
      "Processed 100 frames\n",
      "Finished video 2022-05-15 00-19-09_Trim.mp4\n",
      "Starting video Australian Mesophotic Coral Examination - 4K ROV Highlights - FK210409 - 2.mp4\n",
      "Processed 50 frames\n",
      "Finished video Australian Mesophotic Coral Examination - 4K ROV Highlights - FK210409 - 2.mp4\n",
      "Starting video ROV Dive 419 - Seamount Exploration - World Ocean Day - Part 3.mp4\n",
      "Processed 50 frames\n",
      "Processed 100 frames\n",
      "Finished video ROV Dive 419 - Seamount Exploration - World Ocean Day - Part 3.mp4\n"
     ]
    }
   ],
   "source": [
    "for i in srcvids:\n",
    "    inpath = i.as_posix()\n",
    "    outpath = \"../output/internet/\" + i.stem + \"recoloured.mp4\"\n",
    "    \n",
    "    cap = cv2.VideoCapture(inpath)\n",
    "\n",
    "    frames_per_second = int(cap.get(cv2.CAP_PROP_FPS))\n",
    "    frame_width = int(cap.get(cv2.CAP_PROP_FRAME_WIDTH))\n",
    "    frame_height = int(cap.get(cv2.CAP_PROP_FRAME_HEIGHT))\n",
    "\n",
    "    codec = cv2.VideoWriter.fourcc(*\"avc1\")\n",
    "    video_writer = cv2.VideoWriter(\n",
    "        outpath, codec, frames_per_second, (frame_width, frame_height)\n",
    "    )\n",
    "    \n",
    "    frames = 0\n",
    "    \n",
    "    print(f\"Starting video {i.name}\")\n",
    "\n",
    "    while True:\n",
    "        retval, image = cap.read()\n",
    "\n",
    "        if retval is False:\n",
    "            break\n",
    "\n",
    "        # Logic start ------------------------------------\n",
    "        rgb = cv2.cvtColor(image, cv2.COLOR_BGR2RGB)\n",
    "\n",
    "        wb, gc, he = transform(rgb)\n",
    "\n",
    "        rgb_ten = arr2ten(rgb)\n",
    "        wb_ten =  arr2ten(wb)\n",
    "        gc_ten =  arr2ten(gc)\n",
    "        he_ten =  arr2ten(he)\n",
    "\n",
    "        with torch.no_grad():\n",
    "            rgb_ten = rgb_ten.to(device)\n",
    "            wb_ten = wb_ten.to(device)\n",
    "            gc_ten = gc_ten.to(device)\n",
    "            he_ten = he_ten.to(device)\n",
    "\n",
    "            out = waternet(rgb_ten, wb_ten, he_ten, gc_ten)\n",
    "            out_im = ten2arr(out[0])\n",
    "\n",
    "        video_writer.write(out_im)\n",
    "        frames += 1\n",
    "\n",
    "        if frames % 50 == 0:\n",
    "            print(f\"Processed {frames} frames\")\n",
    "\n",
    "    cap.release()\n",
    "    video_writer.release()\n",
    "\n",
    "    cv2.destroyAllWindows()\n",
    "    \n",
    "    print(f\"Finished video {i.name}\")"
   ]
  },
  {
   "cell_type": "markdown",
   "id": "41177fa8-d2a2-492c-aff0-decc8a837b3b",
   "metadata": {},
   "source": [
    "Seems to take more than one second for each frame."
   ]
  }
 ],
 "metadata": {
  "kernelspec": {
   "display_name": "Python [conda env:waternet]",
   "language": "python",
   "name": "conda-env-waternet-py"
  },
  "language_info": {
   "codemirror_mode": {
    "name": "ipython",
    "version": 3
   },
   "file_extension": ".py",
   "mimetype": "text/x-python",
   "name": "python",
   "nbconvert_exporter": "python",
   "pygments_lexer": "ipython3",
   "version": "3.10.4"
  }
 },
 "nbformat": 4,
 "nbformat_minor": 5
}
