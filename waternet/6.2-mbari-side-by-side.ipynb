{
 "cells": [
  {
   "cell_type": "markdown",
   "id": "51c73ae9-f883-4366-9d5c-ee40ed0371bc",
   "metadata": {},
   "source": [
    "+ 6.1: Inference on videos\n",
    "+ 6.2: MBARI side-by-side comparison"
   ]
  },
  {
   "cell_type": "code",
   "execution_count": 1,
   "id": "ba423613-d7c3-4d0e-923b-ddca5fee4580",
   "metadata": {},
   "outputs": [],
   "source": [
    "from net import WaterNet\n",
    "from data import transform\n",
    "import cv2\n",
    "from pathlib import Path\n",
    "import torch\n",
    "import numpy as np\n",
    "from einops import rearrange\n",
    "import pickle\n",
    "import random"
   ]
  },
  {
   "cell_type": "code",
   "execution_count": 2,
   "id": "e99e05fd-8255-4f9c-8481-e862ac759b9f",
   "metadata": {},
   "outputs": [],
   "source": [
    "import matplotlib.pyplot as plt\n",
    "%matplotlib inline"
   ]
  },
  {
   "cell_type": "markdown",
   "id": "ca986994-6406-4899-9a3d-0b1b0f7c0a44",
   "metadata": {},
   "source": [
    "## Util fxns"
   ]
  },
  {
   "cell_type": "code",
   "execution_count": 3,
   "id": "189cb2f9-ce3c-4429-8c4a-57b64a9d5c2a",
   "metadata": {},
   "outputs": [],
   "source": [
    "def arr2ten(arr):\n",
    "    \"\"\"Convert arr2ten plus scaling\"\"\"\n",
    "    ten = torch.from_numpy(arr) / 255\n",
    "    ten = rearrange(ten, \"h w c -> 1 c h w\")\n",
    "    return ten\n",
    "\n",
    "def ten2arr(ten):\n",
    "    \"\"\"Convert ten2arr plus scaling\"\"\"\n",
    "    arr = ten.cpu().detach().numpy()\n",
    "    arr = np.clip(arr, 0, 1)\n",
    "    arr = (arr * 255).astype(np.uint8)\n",
    "    arr = rearrange(arr, \"c h w -> h w c\")\n",
    "    return arr"
   ]
  },
  {
   "cell_type": "markdown",
   "id": "df789601-626d-4d1a-a15f-78cbc00c638c",
   "metadata": {},
   "source": [
    "## Load weights"
   ]
  },
  {
   "cell_type": "code",
   "execution_count": 4,
   "id": "eef6e52a-af17-4032-bc55-1ab0bec29c98",
   "metadata": {},
   "outputs": [
    {
     "data": {
      "text/plain": [
       "<All keys matched successfully>"
      ]
     },
     "execution_count": 4,
     "metadata": {},
     "output_type": "execute_result"
    }
   ],
   "source": [
    "waternet = WaterNet()\n",
    "\n",
    "with open(\"../waternet_exported_state_dict-daa0ee.pt\", \"rb\") as f:\n",
    "    exported_sd = torch.load(f)\n",
    "\n",
    "waternet.load_state_dict(exported_sd)"
   ]
  },
  {
   "cell_type": "code",
   "execution_count": 5,
   "id": "46f2e3d9-b14c-486f-bda8-0b741807b251",
   "metadata": {},
   "outputs": [
    {
     "name": "stdout",
     "output_type": "stream",
     "text": [
      "cuda\n"
     ]
    }
   ],
   "source": [
    "device = \"cuda\" if torch.cuda.is_available() else \"cpu\"\n",
    "print(device)"
   ]
  },
  {
   "cell_type": "code",
   "execution_count": 6,
   "id": "f6aa6c0f-444a-4aa9-83fa-6bf116e17271",
   "metadata": {},
   "outputs": [],
   "source": [
    "waternet = waternet.to(device)\n",
    "waternet.eval();"
   ]
  },
  {
   "cell_type": "markdown",
   "id": "bab314b8-13d8-41f5-a43d-fb80ff6ce09c",
   "metadata": {},
   "source": [
    "## Video in / out setup"
   ]
  },
  {
   "cell_type": "code",
   "execution_count": 7,
   "id": "d5c5457e-48b2-4053-ae8c-e1e6d24f01d8",
   "metadata": {},
   "outputs": [],
   "source": [
    "srcvid = \"../data/internet/StationMBackground.mp4\""
   ]
  },
  {
   "cell_type": "code",
   "execution_count": 8,
   "id": "e64e2eb8-eadf-4a50-bf9e-01da08b876ef",
   "metadata": {},
   "outputs": [],
   "source": [
    "outpath = \"../output/mbari-side-by-side.mp4\"\n",
    "\n",
    "cap = cv2.VideoCapture(srcvid)\n",
    "\n",
    "frames_per_second = int(cap.get(cv2.CAP_PROP_FPS))\n",
    "frame_width = int(cap.get(cv2.CAP_PROP_FRAME_WIDTH))\n",
    "frame_height = int(cap.get(cv2.CAP_PROP_FRAME_HEIGHT))\n",
    "\n",
    "codec = cv2.VideoWriter.fourcc(*\"avc1\")\n",
    "video_writer = cv2.VideoWriter(\n",
    "    outpath, codec, frames_per_second, (frame_width, frame_height)\n",
    ")"
   ]
  },
  {
   "cell_type": "code",
   "execution_count": 9,
   "id": "ff91d822-f32f-456e-99bb-961e2f787eeb",
   "metadata": {},
   "outputs": [
    {
     "data": {
      "text/plain": [
       "(1920, 1080)"
      ]
     },
     "execution_count": 9,
     "metadata": {},
     "output_type": "execute_result"
    }
   ],
   "source": [
    "frame_width, frame_height"
   ]
  },
  {
   "cell_type": "code",
   "execution_count": 10,
   "id": "90067bdf-be2c-4442-bfed-fe973fb3f04f",
   "metadata": {},
   "outputs": [],
   "source": [
    "composite_im = np.zeros(shape=(1080, 1920))"
   ]
  },
  {
   "cell_type": "code",
   "execution_count": 11,
   "id": "a2340b04-1331-47c9-94aa-5a3366e9d0c0",
   "metadata": {},
   "outputs": [],
   "source": [
    "cv2.putText(\n",
    "    img=composite_im,\n",
    "    text=f\"Before\",\n",
    "    # location of bottom-left corner of text\n",
    "    org=(720, 200), # W, H\n",
    "    # just pick sth not ugly\n",
    "    fontFace=cv2.FONT_HERSHEY_SIMPLEX,\n",
    "    fontScale=2,  # multiplied by font base size\n",
    "    color=(255, 255, 255),\n",
    "    thickness=3,\n",
    ");"
   ]
  },
  {
   "cell_type": "code",
   "execution_count": 12,
   "id": "6380b77b-7858-42e3-8693-d54f7972b168",
   "metadata": {},
   "outputs": [],
   "source": [
    "cv2.putText(\n",
    "    img=composite_im,\n",
    "    text=f\"After\",\n",
    "    # location of bottom-left corner of text\n",
    "    org=(1000, 200),\n",
    "    # just pick sth not ugly\n",
    "    fontFace=cv2.FONT_HERSHEY_SIMPLEX,\n",
    "    fontScale=2,  # multiplied by font base size\n",
    "    color=(255, 255, 255),\n",
    "    thickness=3,\n",
    ");"
   ]
  },
  {
   "cell_type": "code",
   "execution_count": 13,
   "id": "2762b8b1-22fa-4983-9d54-7596db288905",
   "metadata": {},
   "outputs": [
    {
     "data": {
      "text/plain": [
       "<matplotlib.image.AxesImage at 0x7fea867cb940>"
      ]
     },
     "execution_count": 13,
     "metadata": {},
     "output_type": "execute_result"
    },
    {
     "data": {
      "image/png": "[encoded data removed]",
      "text/plain": [
       "<Figure size 432x288 with 1 Axes>"
      ]
     },
     "metadata": {
      "needs_background": "light"
     },
     "output_type": "display_data"
    }
   ],
   "source": [
    "plt.imshow(composite_im)"
   ]
  },
  {
   "cell_type": "code",
   "execution_count": 14,
   "id": "986523e7-3dad-47e3-98ff-da5de2fddf88",
   "metadata": {},
   "outputs": [
    {
     "data": {
      "text/plain": [
       "960.0"
      ]
     },
     "execution_count": 14,
     "metadata": {},
     "output_type": "execute_result"
    }
   ],
   "source": [
    "1920 / 2"
   ]
  },
  {
   "cell_type": "code",
   "execution_count": 15,
   "id": "785bb50b-c8ef-4090-b8f1-25df8806406a",
   "metadata": {},
   "outputs": [
    {
     "name": "stdout",
     "output_type": "stream",
     "text": [
      "Processed 50 frames\n",
      "Processed 100 frames\n",
      "Processed 150 frames\n",
      "Processed 200 frames\n",
      "Processed 250 frames\n",
      "Processed 300 frames\n",
      "Processed 350 frames\n"
     ]
    }
   ],
   "source": [
    "frames = 0\n",
    "\n",
    "while True:\n",
    "    retval, image = cap.read()\n",
    "\n",
    "    if retval is False:\n",
    "        break\n",
    "\n",
    "    # Logic start ------------------------------------\n",
    "    rgb = cv2.cvtColor(image, cv2.COLOR_BGR2RGB)\n",
    "\n",
    "    wb, gc, he = transform(rgb)\n",
    "\n",
    "    rgb_ten = arr2ten(rgb)\n",
    "    wb_ten =  arr2ten(wb)\n",
    "    gc_ten =  arr2ten(gc)\n",
    "    he_ten =  arr2ten(he)\n",
    "\n",
    "    with torch.no_grad():\n",
    "        rgb_ten = rgb_ten.to(device)\n",
    "        wb_ten = wb_ten.to(device)\n",
    "        gc_ten = gc_ten.to(device)\n",
    "        he_ten = he_ten.to(device)\n",
    "\n",
    "        out = waternet(rgb_ten, wb_ten, he_ten, gc_ten)\n",
    "        out_im = ten2arr(out[0])\n",
    "        \n",
    "    w = 960\n",
    "    composite_im = np.zeros_like(rgb)\n",
    "    composite_im[:, :w, :] = rgb[:, :w, :]\n",
    "    composite_im[:, w:, :] = out_im[:, w:, :]\n",
    "\n",
    "    cv2.putText(\n",
    "        img=composite_im,\n",
    "        text=f\"Before\",\n",
    "        # location of bottom-left corner of text\n",
    "        org=(720, 200), # W, H\n",
    "        # just pick sth not ugly\n",
    "        fontFace=cv2.FONT_HERSHEY_DUPLEX,\n",
    "        fontScale=2,  # multiplied by font base size\n",
    "        color=(255, 255, 255),\n",
    "        thickness=3,\n",
    "    );\n",
    "\n",
    "    cv2.putText(\n",
    "        img=composite_im,\n",
    "        text=f\"After\",\n",
    "        # location of bottom-left corner of text\n",
    "        org=(1000, 200),\n",
    "        # just pick sth not ugly\n",
    "        fontFace=cv2.FONT_HERSHEY_DUMPLEX,\n",
    "        fontScale=2,  # multiplied by font base size\n",
    "        color=(255, 255, 255),\n",
    "        thickness=3,\n",
    "    );\n",
    "    \n",
    "    video_writer.write(composite_im)\n",
    "    frames += 1\n",
    "\n",
    "    if frames % 50 == 0:\n",
    "        print(f\"Processed {frames} frames\")\n",
    "\n",
    "cap.release()\n",
    "video_writer.release()\n",
    "\n",
    "cv2.destroyAllWindows()"
   ]
  },
  {
   "cell_type": "code",
   "execution_count": 16,
   "id": "ce908e88-77c3-4d37-b3e3-942e9f238934",
   "metadata": {},
   "outputs": [
    {
     "name": "stdout",
     "output_type": "stream",
     "text": [
      "Done!\n"
     ]
    }
   ],
   "source": [
    "print(\"Done!\")"
   ]
  },
  {
   "cell_type": "markdown",
   "id": "41177fa8-d2a2-492c-aff0-decc8a837b3b",
   "metadata": {},
   "source": [
    "Seems to take more than one second for each frame."
   ]
  }
 ],
 "metadata": {
  "kernelspec": {
   "display_name": "Python [conda env:waternet]",
   "language": "python",
   "name": "conda-env-waternet-py"
  },
  "language_info": {
   "codemirror_mode": {
    "name": "ipython",
    "version": 3
   },
   "file_extension": ".py",
   "mimetype": "text/x-python",
   "name": "python",
   "nbconvert_exporter": "python",
   "pygments_lexer": "ipython3",
   "version": "3.10.4"
  }
 },
 "nbformat": 4,
 "nbformat_minor": 5
}
