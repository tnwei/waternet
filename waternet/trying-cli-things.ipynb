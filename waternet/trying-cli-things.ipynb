{
 "cells": [
  {
   "cell_type": "markdown",
   "id": "4337b6ff-4001-400b-b794-3425f4ebc518",
   "metadata": {},
   "source": [
    "Can openCV tell the difference between images and videos?"
   ]
  },
  {
   "cell_type": "code",
   "execution_count": 1,
   "id": "397f4dfd-f94c-4321-aa55-c1a8ba09b1f7",
   "metadata": {},
   "outputs": [],
   "source": [
    "import cv2"
   ]
  },
  {
   "cell_type": "code",
   "execution_count": 2,
   "id": "8c79e924-48e3-4704-9441-14ae269788a0",
   "metadata": {},
   "outputs": [],
   "source": [
    "im = cv2.imread(\"../data/challenging-60/432.png\")"
   ]
  },
  {
   "cell_type": "code",
   "execution_count": 3,
   "id": "0e44863b-4c93-45dc-b47f-fa76c9e49b25",
   "metadata": {},
   "outputs": [
    {
     "data": {
      "text/plain": [
       "(720, 1280, 3)"
      ]
     },
     "execution_count": 3,
     "metadata": {},
     "output_type": "execute_result"
    }
   ],
   "source": [
    "im.shape"
   ]
  },
  {
   "cell_type": "code",
   "execution_count": 4,
   "id": "dbd01321-3145-454c-be74-a363e93a27fd",
   "metadata": {},
   "outputs": [],
   "source": [
    "vid = cv2.imread(\"../data/internet/StationMBackground.mp4\")"
   ]
  },
  {
   "cell_type": "code",
   "execution_count": 5,
   "id": "34b828a9-4a49-477a-bfee-d7d12995ec45",
   "metadata": {},
   "outputs": [
    {
     "data": {
      "text/plain": [
       "True"
      ]
     },
     "execution_count": 5,
     "metadata": {},
     "output_type": "execute_result"
    }
   ],
   "source": [
    "vid is None"
   ]
  },
  {
   "cell_type": "markdown",
   "id": "7329ec90-b742-4b59-963d-227c7ecf4662",
   "metadata": {},
   "source": [
    "Einops has a wildcard option if I recall correctly."
   ]
  },
  {
   "cell_type": "code",
   "execution_count": 6,
   "id": "21e7ffe8-243d-465e-81b7-ff0156f93deb",
   "metadata": {},
   "outputs": [],
   "source": [
    "from einops import rearrange\n",
    "import numpy as np\n",
    "import torch"
   ]
  },
  {
   "cell_type": "code",
   "execution_count": 7,
   "id": "c4e202d0-ae26-4722-9afe-0a2a6a9c743c",
   "metadata": {},
   "outputs": [],
   "source": [
    "a = np.random.uniform(size=(3, 24, 24))\n",
    "b = np.random.uniform(size=(10, 3, 24, 24))"
   ]
  },
  {
   "cell_type": "code",
   "execution_count": 8,
   "id": "09aedd33-ff9d-425d-8ada-d25a2fcfc065",
   "metadata": {},
   "outputs": [],
   "source": [
    "def ten2arr(ten):\n",
    "    \"\"\"Convert ten2arr plus scaling\"\"\"\n",
    "    arr = ten.cpu().detach().numpy()\n",
    "    arr = np.clip(arr, 0, 1)\n",
    "    arr = (arr * 255).astype(np.uint8)\n",
    "    arr = rearrange(arr, \"c h w -> h w c\")\n",
    "    return arr"
   ]
  },
  {
   "cell_type": "code",
   "execution_count": 9,
   "id": "638e49b6-0694-49cd-83b5-104ee3af6188",
   "metadata": {},
   "outputs": [],
   "source": [
    "c = rearrange(a, \"c h w -> h w c\")"
   ]
  },
  {
   "cell_type": "code",
   "execution_count": 10,
   "id": "ed1f2e39-822e-4c94-a830-14047f00eed0",
   "metadata": {},
   "outputs": [],
   "source": [
    "# d = rearrange(b, \"c h w -> h w c\")"
   ]
  },
  {
   "cell_type": "markdown",
   "id": "bfa7fd74-a5a0-47f1-b434-b43532677d84",
   "metadata": {},
   "source": [
    "``\n",
    "EinopsError:  Error while processing rearrange-reduction pattern \"c h w -> h w c\".\n",
    " Input tensor shape: (10, 3, 24, 24). Additional info: {}.\n",
    " Expected 3 dimensions, got 4\n",
    "```\n",
    "\n",
    "Nope, no dynamic axes allowed."
   ]
  },
  {
   "cell_type": "markdown",
   "id": "5de1b66f-33a4-4b62-baef-263888c9181e",
   "metadata": {},
   "source": [
    "Testing hubconf"
   ]
  },
  {
   "cell_type": "code",
   "execution_count": 11,
   "id": "11bbb322-63b6-48dc-ac40-2ca63d92c683",
   "metadata": {},
   "outputs": [],
   "source": [
    "import torch"
   ]
  },
  {
   "cell_type": "code",
   "execution_count": 17,
   "id": "b8732522-dfc7-45dc-8f7a-a381db8cb4f2",
   "metadata": {},
   "outputs": [
    {
     "name": "stderr",
     "output_type": "stream",
     "text": [
      "Downloading: \"https://github.com/tnwei/waternet/archive/main.zip\" to /home/tnwei/.cache/torch/hub/main.zip\n"
     ]
    },
    {
     "name": "stdout",
     "output_type": "stream",
     "text": [
      "\n",
      "    Args\n",
      "    ----\n",
      "    pretrained: bool\n",
      "        Load pretrained weights. Defaults to True\n",
      "\n",
      "    device:\n",
      "        torch device. Defaults to None\n",
      "\n",
      "    Returns\n",
      "    -------\n",
      "    preprocess: Preprocessing function before inference\n",
      "    model: WaterNet model\n",
      "    postprocess: Postprocessing function after inference\n",
      "\n",
      "    Example usage:\n",
      "    ```\n",
      "    import torch\n",
      "    import cv2\n",
      "\n",
      "    # Load from torchhub\n",
      "    preprocess, postprocess, model = torch.hub.load('tnwei/waternet', 'waternet')\n",
      "    model.eval();\n",
      "\n",
      "    # Load one image using OpenCV\n",
      "    im = cv2.imread(\"example.png\")\n",
      "    rgb_im = cv2.cvtColor(im, cv2.COLOR_BGR2RGB)\n",
      "\n",
      "    # Inference -> return numpy array (1, 3, H, W)\n",
      "    rgb_ten, wb_ten, he_ten, gc_ten = preprocess(rgb_im)\n",
      "    out_ten = model(rgb_ten, wb_ten, he_ten, gc_ten)\n",
      "    out_im = postprocess(out_ten)\n",
      "    ```\n",
      "    \n"
     ]
    }
   ],
   "source": [
    "print(torch.hub.help(\"tnwei/waternet\", \"waternet\", force_reload=True))"
   ]
  },
  {
   "cell_type": "code",
   "execution_count": 13,
   "id": "8b74aec0-5966-4eda-b9e9-f0251f1c8ec0",
   "metadata": {},
   "outputs": [
    {
     "name": "stderr",
     "output_type": "stream",
     "text": [
      "Downloading: \"https://github.com/tnwei/waternet/archive/main.zip\" to /home/tnwei/.cache/torch/hub/main.zip\n"
     ]
    }
   ],
   "source": [
    "import torch\n",
    "import cv2\n",
    "\n",
    "# Load from torchhub\n",
    "preprocess, postprocess, model = torch.hub.load('tnwei/waternet', 'waternet', force_reload=True)\n",
    "model.eval();"
   ]
  },
  {
   "cell_type": "code",
   "execution_count": 14,
   "id": "4dee17fc-aec5-4867-bc43-c43b2215db47",
   "metadata": {},
   "outputs": [],
   "source": [
    "# Load one image using OpenCV\n",
    "# im = cv2.imread(\"example.png\") # already loaded im\n",
    "rgb_im = cv2.cvtColor(im, cv2.COLOR_BGR2RGB)\n",
    "\n",
    "# Inference -> return numpy array (1, 3, H, W)\n",
    "rgb_ten, wb_ten, he_ten, gc_ten = preprocess(rgb_im)\n",
    "out_ten = model(rgb_ten, wb_ten, he_ten, gc_ten)\n",
    "out_im = postprocess(out_ten)"
   ]
  },
  {
   "cell_type": "code",
   "execution_count": 15,
   "id": "e8eac125-bb5b-4820-8ebb-3ecb7334df74",
   "metadata": {},
   "outputs": [],
   "source": [
    "import matplotlib.pyplot as plt\n",
    "%matplotlib inline"
   ]
  },
  {
   "cell_type": "code",
   "execution_count": 16,
   "id": "4c745684-84d4-416e-a98c-53949cbf764a",
   "metadata": {},
   "outputs": [
    {
     "data": {
      "text/plain": [
       "<matplotlib.image.AxesImage at 0x7f46544611e0>"
      ]
     },
     "execution_count": 16,
     "metadata": {},
     "output_type": "execute_result"
    },
    {
     "data": {
      "image/png": "[encoded data removed]",
      "text/plain": [
       "<Figure size 432x288 with 1 Axes>"
      ]
     },
     "metadata": {
      "needs_background": "light"
     },
     "output_type": "display_data"
    }
   ],
   "source": [
    "plt.imshow(out_im[0])"
   ]
  },
  {
   "cell_type": "markdown",
   "id": "c38d4af3-9826-4817-a720-f1e8ce1b5e26",
   "metadata": {},
   "source": [
    "What error does OpenCV throw on non images?"
   ]
  },
  {
   "cell_type": "code",
   "execution_count": 18,
   "id": "62c1ab83-d129-417a-b06b-01ebef6f6c16",
   "metadata": {},
   "outputs": [],
   "source": [
    "notim = cv2.imread(\"data.py\")"
   ]
  },
  {
   "cell_type": "markdown",
   "id": "a79b0228-bdfb-46a1-a780-8f23a5f403aa",
   "metadata": {},
   "source": [
    "Conversion for pathlib Path to string that isn't linux specific?"
   ]
  },
  {
   "cell_type": "code",
   "execution_count": 20,
   "id": "f2a7f375-fdc8-45eb-b868-0db203ac5951",
   "metadata": {},
   "outputs": [],
   "source": [
    "from pathlib import Path"
   ]
  },
  {
   "cell_type": "code",
   "execution_count": 24,
   "id": "901b3d64-764f-4096-860d-18ec9ae56a80",
   "metadata": {},
   "outputs": [],
   "source": [
    "p = Path(\".\")"
   ]
  },
  {
   "cell_type": "code",
   "execution_count": 25,
   "id": "c18ccf22-8edd-4d21-9dce-bd6b36fca3b5",
   "metadata": {},
   "outputs": [
    {
     "data": {
      "text/plain": [
       "'.'"
      ]
     },
     "execution_count": 25,
     "metadata": {},
     "output_type": "execute_result"
    }
   ],
   "source": [
    "str(p)"
   ]
  },
  {
   "cell_type": "code",
   "execution_count": 26,
   "id": "f5eb0c51-f26f-402c-ba37-3690d0ee211c",
   "metadata": {},
   "outputs": [
    {
     "data": {
      "text/plain": [
       "PosixPath('.')"
      ]
     },
     "execution_count": 26,
     "metadata": {},
     "output_type": "execute_result"
    }
   ],
   "source": [
    "p"
   ]
  },
  {
   "cell_type": "code",
   "execution_count": 27,
   "id": "d0c3c988-a05b-4eba-a8a1-16f0f7f4efec",
   "metadata": {},
   "outputs": [],
   "source": [
    "import os"
   ]
  },
  {
   "cell_type": "code",
   "execution_count": 28,
   "id": "0bdafec6-9438-4f9b-960c-f1bc6f9615d7",
   "metadata": {},
   "outputs": [
    {
     "data": {
      "text/plain": [
       "'.'"
      ]
     },
     "execution_count": 28,
     "metadata": {},
     "output_type": "execute_result"
    }
   ],
   "source": [
    "# ref: https://stackoverflow.com/a/58963478/13095028\n",
    "os.fspath(p)"
   ]
  },
  {
   "cell_type": "code",
   "execution_count": 29,
   "id": "332f561b-349e-4ca9-af15-9e2ab275dc15",
   "metadata": {},
   "outputs": [
    {
     "data": {
      "text/plain": [
       "False"
      ]
     },
     "execution_count": 29,
     "metadata": {},
     "output_type": "execute_result"
    }
   ],
   "source": [
    "p.is_file()"
   ]
  },
  {
   "cell_type": "code",
   "execution_count": 30,
   "id": "30139f39-9924-4a76-b82f-7361530f5549",
   "metadata": {},
   "outputs": [
    {
     "data": {
      "text/plain": [
       "True"
      ]
     },
     "execution_count": 30,
     "metadata": {},
     "output_type": "execute_result"
    }
   ],
   "source": [
    "p.is_dir()"
   ]
  },
  {
   "cell_type": "code",
   "execution_count": 31,
   "id": "b4eef2b4-ad9d-4b2f-97ea-addb1f5bc49c",
   "metadata": {},
   "outputs": [
    {
     "data": {
      "text/plain": [
       "''"
      ]
     },
     "execution_count": 31,
     "metadata": {},
     "output_type": "execute_result"
    }
   ],
   "source": [
    "p.suffix"
   ]
  },
  {
   "cell_type": "code",
   "execution_count": 35,
   "id": "fe788da8-2cf8-466d-9ba2-4efd4cb8bfe1",
   "metadata": {},
   "outputs": [],
   "source": [
    "fdirs = list(p.glob(\"*\"))"
   ]
  },
  {
   "cell_type": "code",
   "execution_count": 36,
   "id": "553f66c7-acf5-4083-83c1-07963d6040a1",
   "metadata": {},
   "outputs": [
    {
     "data": {
      "text/plain": [
       "[PosixPath('1.0-implement-arch.ipynb'),\n",
       " PosixPath('utils.py'),\n",
       " PosixPath('net.py'),\n",
       " PosixPath('2.0-load-old-files.ipynb'),\n",
       " PosixPath('6.0-existing-model-large-images.ipynb'),\n",
       " PosixPath('__pycache__'),\n",
       " PosixPath('trying-cli-things.ipynb'),\n",
       " PosixPath('6.1-existing-model-large-images.ipynb'),\n",
       " PosixPath('data.py'),\n",
       " PosixPath('.ipynb_checkpoints'),\n",
       " PosixPath('4.0-clahe-opencv-vs-matlab.ipynb'),\n",
       " PosixPath('5.0-transform-pipeline.ipynb'),\n",
       " PosixPath('extract_waternet_params.ipynb'),\n",
       " PosixPath('3.0-implement-transforms.ipynb')]"
      ]
     },
     "execution_count": 36,
     "metadata": {},
     "output_type": "execute_result"
    }
   ],
   "source": [
    "fdirs"
   ]
  },
  {
   "cell_type": "code",
   "execution_count": 37,
   "id": "c00486cc-06bf-4006-bae5-f3d6f165b593",
   "metadata": {},
   "outputs": [
    {
     "data": {
      "text/plain": [
       "['.ipynb',\n",
       " '.py',\n",
       " '.py',\n",
       " '.ipynb',\n",
       " '.ipynb',\n",
       " '',\n",
       " '.ipynb',\n",
       " '.ipynb',\n",
       " '.py',\n",
       " '',\n",
       " '.ipynb',\n",
       " '.ipynb',\n",
       " '.ipynb',\n",
       " '.ipynb']"
      ]
     },
     "execution_count": 37,
     "metadata": {},
     "output_type": "execute_result"
    }
   ],
   "source": [
    "[i.suffix for i in fdirs]"
   ]
  },
  {
   "cell_type": "markdown",
   "id": "6aa0d15e-a6db-436e-92e8-0aa009678e04",
   "metadata": {},
   "source": [
    "Troubleshooting imwrite"
   ]
  },
  {
   "cell_type": "code",
   "execution_count": 55,
   "id": "58724796-6091-4459-bb41-abfbb6ad405c",
   "metadata": {},
   "outputs": [],
   "source": [
    "funnyim = cv2.imread(\"/home/tnwei/projects/waternet/output/4/432.png\")\n",
    "funnyim = cv2.cvtColor(funnyim, cv2.COLOR_BGR2RGB)"
   ]
  },
  {
   "cell_type": "code",
   "execution_count": 56,
   "id": "2b5995f9-f574-4bdb-bb1c-dd2af38365a7",
   "metadata": {},
   "outputs": [
    {
     "data": {
      "text/plain": [
       "(720, 1280, 3)"
      ]
     },
     "execution_count": 56,
     "metadata": {},
     "output_type": "execute_result"
    }
   ],
   "source": [
    "funnyim.shape"
   ]
  },
  {
   "cell_type": "code",
   "execution_count": 57,
   "id": "f423a72b-f95e-48b5-b6ec-3d4c410fdc97",
   "metadata": {},
   "outputs": [
    {
     "data": {
      "text/plain": [
       "dtype('uint8')"
      ]
     },
     "execution_count": 57,
     "metadata": {},
     "output_type": "execute_result"
    }
   ],
   "source": [
    "funnyim.dtype"
   ]
  },
  {
   "cell_type": "code",
   "execution_count": 58,
   "id": "f3e8a70e-ef79-4e7e-8a50-43d458373320",
   "metadata": {},
   "outputs": [
    {
     "data": {
      "text/plain": [
       "<matplotlib.image.AxesImage at 0x7f46541b97e0>"
      ]
     },
     "execution_count": 58,
     "metadata": {},
     "output_type": "execute_result"
    },
    {
     "data": {
      "image/png": "[encoded data removed]",
      "text/plain": [
       "<Figure size 432x288 with 1 Axes>"
      ]
     },
     "metadata": {
      "needs_background": "light"
     },
     "output_type": "display_data"
    }
   ],
   "source": [
    "plt.imshow(funnyim)"
   ]
  },
  {
   "cell_type": "markdown",
   "id": "a325f630-eb98-4e8c-b9d8-c78c182e1267",
   "metadata": {},
   "source": [
    "Turns out it was bad weights. Redownloaded, no issue. But after a single run, it goes bad again! Sha256 sum of the model didn't reveal any changes."
   ]
  },
  {
   "cell_type": "code",
   "execution_count": 59,
   "id": "d3240934-33d5-40df-95be-2ded6949f1fc",
   "metadata": {},
   "outputs": [],
   "source": [
    "npy1 = np.load(\"/home/tnwei/projects/waternet/output/17/432.npy\")\n",
    "npy2 = np.load(\"/home/tnwei/projects/waternet/output/18/432.npy\")\n",
    "npy3 = np.load(\"/home/tnwei/projects/waternet/output/19/432.npy\")"
   ]
  },
  {
   "cell_type": "code",
   "execution_count": 65,
   "id": "57678748-9bac-4298-80c0-97af89937d10",
   "metadata": {},
   "outputs": [
    {
     "data": {
      "text/plain": [
       "(array([[7, 5, 1],\n",
       "        [6, 5, 4],\n",
       "        [5, 4, 3]], dtype=uint8),\n",
       " array([[5, 8, 0],\n",
       "        [7, 7, 0],\n",
       "        [9, 7, 2]], dtype=uint8),\n",
       " array([[ 6,  8,  5],\n",
       "        [ 5, 11,  6],\n",
       "        [ 5, 10,  6]], dtype=uint8))"
      ]
     },
     "execution_count": 65,
     "metadata": {},
     "output_type": "execute_result"
    }
   ],
   "source": [
    "npy1[0, :3], npy2[0, :3], npy3[0, :3]"
   ]
  },
  {
   "cell_type": "markdown",
   "id": "a9b9112f-8c53-4fd5-acc1-f2ebe95f7209",
   "metadata": {},
   "source": [
    "Strange that the outputs are different every time!\n",
    "\n",
    "... Oh. Must have goofed the weights loading."
   ]
  }
 ],
 "metadata": {
  "kernelspec": {
   "display_name": "Python [conda env:waternet]",
   "language": "python",
   "name": "conda-env-waternet-py"
  },
  "language_info": {
   "codemirror_mode": {
    "name": "ipython",
    "version": 3
   },
   "file_extension": ".py",
   "mimetype": "text/x-python",
   "name": "python",
   "nbconvert_exporter": "python",
   "pygments_lexer": "ipython3",
   "version": "3.10.4"
  }
 },
 "nbformat": 4,
 "nbformat_minor": 5
}
