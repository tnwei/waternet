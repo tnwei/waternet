{
 "cells": [
  {
   "cell_type": "code",
   "execution_count": 1,
   "id": "fe45de28-b64a-4bd9-9972-fca37ab2d166",
   "metadata": {},
   "outputs": [],
   "source": [
    "import torch\n",
    "import torch.nn as nn\n",
    "import torch.nn.functional as F"
   ]
  },
  {
   "cell_type": "markdown",
   "id": "2b075002-4bbe-4876-80d6-dc59eef342e9",
   "metadata": {},
   "source": [
    "Original model implementation at https://github.com/Li-Chongyi/Water-Net_Code/blob/master/model.py:\n",
    "\n",
    "```python\n",
    "  def model(self):\n",
    "\n",
    "\n",
    "    with tf.variable_scope(\"main_branch\") as scope:      \n",
    "\n",
    "      conb0 = tf.concat(axis = 3, values = [self.images,self.images_wb,self.images_ce,self.images_gc]) \n",
    "      conv_wb1 = tf.nn.relu(conv2d(conb0, 16,128, k_h=7, k_w=7, d_h=1, d_w=1,name=\"conv2wb_1\"))\n",
    "      conv_wb2 = tf.nn.relu(conv2d(conv_wb1, 128,128, k_h=5, k_w=5, d_h=1, d_w=1,name=\"conv2wb_2\"))\n",
    "      conv_wb3 = tf.nn.relu(conv2d(conv_wb2, 128,128, k_h=3, k_w=3, d_h=1, d_w=1,name=\"conv2wb_3\"))\n",
    "      conv_wb4 = tf.nn.relu(conv2d(conv_wb3, 128,64, k_h=1, k_w=1, d_h=1, d_w=1,name=\"conv2wb_4\"))\n",
    "      conv_wb5 = tf.nn.relu(conv2d(conv_wb4, 64,64, k_h=7, k_w=7, d_h=1, d_w=1,name=\"conv2wb_5\"))\n",
    "      conv_wb6 = tf.nn.relu(conv2d(conv_wb5, 64,64, k_h=5, k_w=5, d_h=1, d_w=1,name=\"conv2wb_6\"))\n",
    "      conv_wb7 = tf.nn.relu(conv2d(conv_wb6, 64,64, k_h=3, k_w=3, d_h=1, d_w=1,name=\"conv2wb_7\"))\n",
    "\n",
    "      conv_wb77 =tf.nn.sigmoid(conv2d(conv_wb7, 64,3, k_h=3, k_w=3, d_h=1, d_w=1,name=\"conv2wb_77\"))\n",
    "\n",
    "      conb00 = tf.concat(axis = 3, values = [self.images,self.images_wb]) \n",
    "      conv_wb9 = tf.nn.relu(conv2d(conb00, 3,32, k_h=7, k_w=7, d_h=1, d_w=1,name=\"conv2wb_9\"))\n",
    "      conv_wb10 = tf.nn.relu(conv2d(conv_wb9, 32,32, k_h=5, k_w=5, d_h=1, d_w=1,name=\"conv2wb_10\"))\n",
    "      wb1 =tf.nn.relu(conv2d(conv_wb10, 32,3, k_h=3, k_w=3, d_h=1, d_w=1,name=\"conv2wb_11\"))\n",
    "\n",
    "      conb11 = tf.concat(axis = 3, values = [self.images,self.images_ce]) \n",
    "      conv_wb99 = tf.nn.relu(conv2d(conb11, 3,32, k_h=7, k_w=7, d_h=1, d_w=1,name=\"conv2wb_99\"))\n",
    "      conv_wb100 = tf.nn.relu(conv2d(conv_wb99, 32,32, k_h=5, k_w=5, d_h=1, d_w=1,name=\"conv2wb_100\"))\n",
    "      ce1 =tf.nn.relu(conv2d(conv_wb100, 32,3, k_h=3, k_w=3, d_h=1, d_w=1,name=\"conv2wb_111\"))\n",
    "\n",
    "      conb111 = tf.concat(axis = 3, values = [self.images,self.images_gc]) \n",
    "      conv_wb999 = tf.nn.relu(conv2d(conb111, 3,32, k_h=7, k_w=7, d_h=1, d_w=1,name=\"conv2wb_999\"))\n",
    "      conv_wb1000 = tf.nn.relu(conv2d(conv_wb999, 32,32, k_h=5, k_w=5, d_h=1, d_w=1,name=\"conv2wb_1000\"))\n",
    "      gc1 =tf.nn.relu(conv2d(conv_wb1000, 32,3, k_h=3, k_w=3, d_h=1, d_w=1,name=\"conv2wb_1111\"))\n",
    "\n",
    "      weight_wb,weight_ce,weight_gc=tf.split(conv_wb77,3,3)\n",
    "      output1=tf.add(tf.add(tf.multiply(wb1,weight_wb),tf.multiply(ce1,weight_ce)),tf.multiply(gc1,weight_gc))\n",
    "\n",
    "    return output1\n",
    "```\n",
    "\n",
    "where `ops.conv2d` is:\n",
    "\n",
    "```python\n",
    "def conv2d(input_, input_dim,output_dim, \n",
    "       k_h=5, k_w=5, d_h=2, d_w=2, stddev=0.02,\n",
    "       name=\"conv2d\"):\n",
    "  with tf.variable_scope(name):\n",
    "    w = tf.get_variable('w', [k_h, k_w, input_.get_shape()[-1], output_dim],\n",
    "              initializer=tf.truncated_normal_initializer(stddev=stddev))\n",
    "    conv = tf.nn.conv2d(input_, w, strides=[1, d_h, d_w, 1], padding='SAME')\n",
    "\n",
    "    biases = tf.get_variable('biases', [output_dim], initializer=tf.constant_initializer(0.0))\n",
    "    conv = tf.reshape(tf.nn.bias_add(conv, biases), conv.get_shape())\n",
    "    return conv\n",
    "```\n",
    "\n",
    "TF 1.4 docs for tf.nn.conv2d: https://github.com/tensorflow/docs/blob/r1.4/site/en/api_docs/api_docs/python/tf/nn/conv2d.md"
   ]
  },
  {
   "cell_type": "code",
   "execution_count": 56,
   "id": "0e78d652-b89a-41cc-944f-eeebfe6fef45",
   "metadata": {},
   "outputs": [],
   "source": [
    "class ConfidenceMapGenerator(nn.Module):\n",
    "    def __init__(self):\n",
    "        super().__init__()\n",
    "        # Confidence maps\n",
    "        # Accepts input of size (N, 3*4, H, W)\n",
    "        self.conv1 = nn.Conv2d(in_channels=12, out_channels=128, kernel_size=7, dilation=1, padding=\"same\")\n",
    "        self.relu1 = nn.ReLU()\n",
    "        self.conv2 = nn.Conv2d(in_channels=128, out_channels=128, kernel_size=5, dilation=1, padding=\"same\")\n",
    "        self.relu2 = nn.ReLU()\n",
    "        self.conv3 = nn.Conv2d(in_channels=128, out_channels=128, kernel_size=3, dilation=1, padding=\"same\")\n",
    "        self.relu3 = nn.ReLU()\n",
    "        self.conv4 = nn.Conv2d(in_channels=128, out_channels=64, kernel_size=1, dilation=1, padding=\"same\")\n",
    "        self.relu4 = nn.ReLU()\n",
    "        self.conv5 = nn.Conv2d(in_channels=64, out_channels=64, kernel_size=7, dilation=1, padding=\"same\")\n",
    "        self.relu5 = nn.ReLU()\n",
    "        self.conv6 = nn.Conv2d(in_channels=64, out_channels=64, kernel_size=5, dilation=1, padding=\"same\")\n",
    "        self.relu6 = nn.ReLU()\n",
    "        self.conv7 = nn.Conv2d(in_channels=64, out_channels=64, kernel_size=3, dilation=1, padding=\"same\")\n",
    "        self.relu7 = nn.ReLU()\n",
    "        self.conv8 = nn.Conv2d(in_channels=64, out_channels=3, kernel_size=3, dilation=1, padding=\"same\")\n",
    "        self.sigmoid = nn.Sigmoid()\n",
    "        \n",
    "    def forward(self, x, wb, ce, gc):\n",
    "        out = torch.cat([x, wb, ce, gc], dim=1)\n",
    "        out = self.relu1(self.conv1(out))\n",
    "        out = self.relu2(self.conv2(out))\n",
    "        out = self.relu3(self.conv3(out))\n",
    "        out = self.relu4(self.conv4(out))\n",
    "        out = self.relu5(self.conv5(out))\n",
    "        out = self.relu6(self.conv6(out))\n",
    "        out = self.relu7(self.conv7(out))\n",
    "        out = self.sigmoid(self.conv8(out))\n",
    "        out1, out2, out3 = torch.split(out, [1, 1, 1], dim=1)\n",
    "        return out1, out2, out3"
   ]
  },
  {
   "cell_type": "code",
   "execution_count": 57,
   "id": "c65fc5db-7a26-40f9-a2f4-a1ad6b3621aa",
   "metadata": {},
   "outputs": [],
   "source": [
    "cmg = ConfidenceMapGenerator()"
   ]
  },
  {
   "cell_type": "code",
   "execution_count": 60,
   "id": "7049410b-04a8-464b-a243-8d370a8793d1",
   "metadata": {},
   "outputs": [],
   "source": [
    "cmg_a, cmg_b, cmg_c = cmg(torch.randn(16, 3, 112, 112), torch.randn(16, 3, 112, 112), torch.randn(16, 3, 112, 112), torch.randn(16, 3, 112, 112))"
   ]
  },
  {
   "cell_type": "code",
   "execution_count": 61,
   "id": "843c8043-4184-4e73-9ab7-58f76c700d92",
   "metadata": {},
   "outputs": [
    {
     "data": {
      "text/plain": [
       "(torch.Size([16, 1, 112, 112]),\n",
       " torch.Size([16, 1, 112, 112]),\n",
       " torch.Size([16, 1, 112, 112]))"
      ]
     },
     "execution_count": 61,
     "metadata": {},
     "output_type": "execute_result"
    }
   ],
   "source": [
    "cmg_a.shape, cmg_b.shape, cmg_c.shape"
   ]
  },
  {
   "cell_type": "code",
   "execution_count": 27,
   "id": "8e315c88-26d4-48ab-b614-b82e38fb3597",
   "metadata": {},
   "outputs": [],
   "source": [
    "class Refiner(nn.Module):\n",
    "    def __init__(self):\n",
    "        super().__init__()\n",
    "        self.conv1 = nn.Conv2d(in_channels=6, out_channels=32, kernel_size=7, dilation=1, padding=\"same\")\n",
    "        self.conv2 = nn.Conv2d(in_channels=32, out_channels=32, kernel_size=5, dilation=1, padding=\"same\")\n",
    "        self.conv3 = nn.Conv2d(in_channels=32, out_channels=3, kernel_size=3, dilation=1, padding=\"same\")\n",
    "        \n",
    "        self.relu1 = nn.ReLU()\n",
    "        self.relu2 = nn.ReLU()\n",
    "        self.relu3 = nn.ReLU()\n",
    "    \n",
    "    def forward(self, x, xbar):\n",
    "        out = torch.cat([x, xbar], dim=1)\n",
    "        out = self.relu1(self.conv1(out))\n",
    "        out = self.relu2(self.conv2(out))\n",
    "        out = self.relu3(self.conv3(out))\n",
    "        return out"
   ]
  },
  {
   "cell_type": "code",
   "execution_count": 28,
   "id": "9f84258b-4716-4bb6-96db-25a282c697b8",
   "metadata": {},
   "outputs": [],
   "source": [
    "refiner = Refiner()"
   ]
  },
  {
   "cell_type": "code",
   "execution_count": 29,
   "id": "d52724f2-fb62-4261-bdcb-58f3aeb6d5a3",
   "metadata": {},
   "outputs": [],
   "source": [
    "refiner_out = refiner(torch.randn(16, 3, 112, 112), torch.randn(16, 3, 112, 112))"
   ]
  },
  {
   "cell_type": "code",
   "execution_count": 30,
   "id": "be227df0-d46a-4090-aad4-405cf75aed2d",
   "metadata": {},
   "outputs": [
    {
     "data": {
      "text/plain": [
       "torch.Size([16, 3, 112, 112])"
      ]
     },
     "execution_count": 30,
     "metadata": {},
     "output_type": "execute_result"
    }
   ],
   "source": [
    "refiner_out.shape"
   ]
  },
  {
   "cell_type": "code",
   "execution_count": 63,
   "id": "966fa8d9-c855-4408-bd15-7688a27cc28c",
   "metadata": {},
   "outputs": [
    {
     "data": {
      "text/plain": [
       "torch.Size([16, 3, 112, 112])"
      ]
     },
     "execution_count": 63,
     "metadata": {},
     "output_type": "execute_result"
    }
   ],
   "source": [
    "torch.mul(refiner_out, cmg_a).shape"
   ]
  },
  {
   "cell_type": "code",
   "execution_count": 64,
   "id": "9d1c05aa-6d7d-406e-8f5f-8c79642a6ef1",
   "metadata": {},
   "outputs": [],
   "source": [
    "class WaterNet(nn.Module):\n",
    "    def __init__(self):\n",
    "        super().__init__()\n",
    "        self.cmg = ConfidenceMapGenerator()\n",
    "        self.wb_refiner = Refiner()\n",
    "        self.ce_refiner = Refiner()\n",
    "        self.gc_refiner = Refiner()\n",
    "    \n",
    "    def forward(self, x, wb, ce, gc):\n",
    "        wb_cm, ce_cm, gc_cm = self.cmg(x, wb, ce, gc)\n",
    "        refined_wb = self.wb_refiner(x, wb)\n",
    "        refined_ce = self.ce_refiner(x, ce)\n",
    "        refined_gc = self.gc_refiner(x, gc)\n",
    "        return torch.mul(refined_wb, wb_cm) + torch.mul(refined_ce, ce_cm) + torch.mul(refined_gc, gc_cm)"
   ]
  },
  {
   "cell_type": "code",
   "execution_count": 65,
   "id": "684dc8a1-ac2e-4c62-a7a0-57427d06d1cb",
   "metadata": {},
   "outputs": [],
   "source": [
    "waternet = WaterNet()"
   ]
  },
  {
   "cell_type": "code",
   "execution_count": 66,
   "id": "7c59496a-37fd-465a-9de5-79c3d75c305e",
   "metadata": {},
   "outputs": [],
   "source": [
    "waternet_out = waternet(torch.randn(16, 3, 112, 112), torch.randn(16, 3, 112, 112), torch.randn(16, 3, 112, 112), torch.randn(16, 3, 112, 112))"
   ]
  },
  {
   "cell_type": "code",
   "execution_count": 67,
   "id": "726fece8-8ada-426c-ae57-85cac0714124",
   "metadata": {},
   "outputs": [
    {
     "data": {
      "text/plain": [
       "torch.Size([16, 3, 112, 112])"
      ]
     },
     "execution_count": 67,
     "metadata": {},
     "output_type": "execute_result"
    }
   ],
   "source": [
    "waternet_out.shape"
   ]
  },
  {
   "cell_type": "code",
   "execution_count": 68,
   "id": "c40f27a6-249d-4e80-919e-bb41fe9d1445",
   "metadata": {},
   "outputs": [],
   "source": [
    "from torchsummary import summary"
   ]
  },
  {
   "cell_type": "code",
   "execution_count": 71,
   "id": "64e439b3-5bd5-4edd-8108-4e644db4324c",
   "metadata": {},
   "outputs": [
    {
     "name": "stdout",
     "output_type": "stream",
     "text": [
      "----------------------------------------------------------------\n",
      "        Layer (type)               Output Shape         Param #\n",
      "================================================================\n",
      "            Conv2d-1         [4, 128, 112, 112]          75,392\n",
      "              ReLU-2         [4, 128, 112, 112]               0\n",
      "            Conv2d-3         [4, 128, 112, 112]         409,728\n",
      "              ReLU-4         [4, 128, 112, 112]               0\n",
      "            Conv2d-5         [4, 128, 112, 112]         147,584\n",
      "              ReLU-6         [4, 128, 112, 112]               0\n",
      "            Conv2d-7          [4, 64, 112, 112]           8,256\n",
      "              ReLU-8          [4, 64, 112, 112]               0\n",
      "            Conv2d-9          [4, 64, 112, 112]         200,768\n",
      "             ReLU-10          [4, 64, 112, 112]               0\n",
      "           Conv2d-11          [4, 64, 112, 112]         102,464\n",
      "             ReLU-12          [4, 64, 112, 112]               0\n",
      "           Conv2d-13          [4, 64, 112, 112]          36,928\n",
      "             ReLU-14          [4, 64, 112, 112]               0\n",
      "           Conv2d-15           [4, 3, 112, 112]           1,731\n",
      "          Sigmoid-16           [4, 3, 112, 112]               0\n",
      "ConfidenceMapGenerator-17  [[-1, 1, 112, 112], [-1, 1, 112, 112], [-1, 1, 112, 112]]               0\n",
      "           Conv2d-18          [4, 32, 112, 112]           9,440\n",
      "             ReLU-19          [4, 32, 112, 112]               0\n",
      "           Conv2d-20          [4, 32, 112, 112]          25,632\n",
      "             ReLU-21          [4, 32, 112, 112]               0\n",
      "           Conv2d-22           [4, 3, 112, 112]             867\n",
      "             ReLU-23           [4, 3, 112, 112]               0\n",
      "          Refiner-24           [4, 3, 112, 112]               0\n",
      "           Conv2d-25          [4, 32, 112, 112]           9,440\n",
      "             ReLU-26          [4, 32, 112, 112]               0\n",
      "           Conv2d-27          [4, 32, 112, 112]          25,632\n",
      "             ReLU-28          [4, 32, 112, 112]               0\n",
      "           Conv2d-29           [4, 3, 112, 112]             867\n",
      "             ReLU-30           [4, 3, 112, 112]               0\n",
      "          Refiner-31           [4, 3, 112, 112]               0\n",
      "           Conv2d-32          [4, 32, 112, 112]           9,440\n",
      "             ReLU-33          [4, 32, 112, 112]               0\n",
      "           Conv2d-34          [4, 32, 112, 112]          25,632\n",
      "             ReLU-35          [4, 32, 112, 112]               0\n",
      "           Conv2d-36           [4, 3, 112, 112]             867\n",
      "             ReLU-37           [4, 3, 112, 112]               0\n",
      "          Refiner-38           [4, 3, 112, 112]               0\n",
      "================================================================\n",
      "Total params: 1,090,668\n",
      "Trainable params: 1,090,668\n",
      "Non-trainable params: 0\n",
      "----------------------------------------------------------------\n",
      "Input size (MB): 30601961865216.00\n",
      "Forward/backward pass size (MB): 15058422.37\n",
      "Params size (MB): 4.16\n",
      "Estimated Total Size (MB): 30601976923642.53\n",
      "----------------------------------------------------------------\n"
     ]
    }
   ],
   "source": [
    "summary(\n",
    "    waternet, \n",
    "    input_size=[\n",
    "        (3, 112, 112), (3, 112, 112), (3, 112, 112), (3, 112, 112)\n",
    "    ], \n",
    "    device=\"cpu\",\n",
    "    batch_size=4\n",
    ")"
   ]
  },
  {
   "cell_type": "markdown",
   "id": "52be7833-3baf-4a51-bf81-3e9a1499f9a7",
   "metadata": {},
   "source": [
    "Aight I think that's it.\n",
    "\n",
    "Total 1M params, pretty small. For context, VGG has 100M+ params. No idea why torchsummary's input size blew up though."
   ]
  },
  {
   "cell_type": "code",
   "execution_count": 74,
   "id": "661fa4c3-d7fe-4683-a80a-9163cff7cbe3",
   "metadata": {},
   "outputs": [
    {
     "name": "stdout",
     "output_type": "stream",
     "text": [
      "cmg.conv1.weight torch.Size([128, 12, 7, 7])\n",
      "cmg.conv1.bias torch.Size([128])\n",
      "cmg.conv2.weight torch.Size([128, 128, 5, 5])\n",
      "cmg.conv2.bias torch.Size([128])\n",
      "cmg.conv3.weight torch.Size([128, 128, 3, 3])\n",
      "cmg.conv3.bias torch.Size([128])\n",
      "cmg.conv4.weight torch.Size([64, 128, 1, 1])\n",
      "cmg.conv4.bias torch.Size([64])\n",
      "cmg.conv5.weight torch.Size([64, 64, 7, 7])\n",
      "cmg.conv5.bias torch.Size([64])\n",
      "cmg.conv6.weight torch.Size([64, 64, 5, 5])\n",
      "cmg.conv6.bias torch.Size([64])\n",
      "cmg.conv7.weight torch.Size([64, 64, 3, 3])\n",
      "cmg.conv7.bias torch.Size([64])\n",
      "cmg.conv8.weight torch.Size([3, 64, 3, 3])\n",
      "cmg.conv8.bias torch.Size([3])\n",
      "wb_refiner.conv1.weight torch.Size([32, 6, 7, 7])\n",
      "wb_refiner.conv1.bias torch.Size([32])\n",
      "wb_refiner.conv2.weight torch.Size([32, 32, 5, 5])\n",
      "wb_refiner.conv2.bias torch.Size([32])\n",
      "wb_refiner.conv3.weight torch.Size([3, 32, 3, 3])\n",
      "wb_refiner.conv3.bias torch.Size([3])\n",
      "ce_refiner.conv1.weight torch.Size([32, 6, 7, 7])\n",
      "ce_refiner.conv1.bias torch.Size([32])\n",
      "ce_refiner.conv2.weight torch.Size([32, 32, 5, 5])\n",
      "ce_refiner.conv2.bias torch.Size([32])\n",
      "ce_refiner.conv3.weight torch.Size([3, 32, 3, 3])\n",
      "ce_refiner.conv3.bias torch.Size([3])\n",
      "gc_refiner.conv1.weight torch.Size([32, 6, 7, 7])\n",
      "gc_refiner.conv1.bias torch.Size([32])\n",
      "gc_refiner.conv2.weight torch.Size([32, 32, 5, 5])\n",
      "gc_refiner.conv2.bias torch.Size([32])\n",
      "gc_refiner.conv3.weight torch.Size([3, 32, 3, 3])\n",
      "gc_refiner.conv3.bias torch.Size([3])\n"
     ]
    }
   ],
   "source": [
    "for i, j in waternet.state_dict().items():\n",
    "    print(i, j.shape)"
   ]
  }
 ],
 "metadata": {
  "kernelspec": {
   "display_name": "Python [conda env:dolphin]",
   "language": "python",
   "name": "conda-env-dolphin-py"
  },
  "language_info": {
   "codemirror_mode": {
    "name": "ipython",
    "version": 3
   },
   "file_extension": ".py",
   "mimetype": "text/x-python",
   "name": "python",
   "nbconvert_exporter": "python",
   "pygments_lexer": "ipython3",
   "version": "3.8.12"
  }
 },
 "nbformat": 4,
 "nbformat_minor": 5
}
