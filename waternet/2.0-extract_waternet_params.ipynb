{
  "nbformat": 4,
  "nbformat_minor": 0,
  "metadata": {
    "colab": {
      "name": "extract-waternet-params",
      "provenance": []
    },
    "kernelspec": {
      "name": "python3",
      "display_name": "Python 3"
    },
    "language_info": {
      "name": "python"
    }
  },
  "cells": [
    {
      "cell_type": "code",
      "execution_count": null,
      "metadata": {
        "id": "wJE54MzChUuI"
      },
      "outputs": [],
      "source": [
        "import tensorflow as tf\n",
        "import collections\n",
        "import torch\n",
        "import numpy as np\n",
        "import pickle"
      ]
    },
    {
      "cell_type": "markdown",
      "source": [
        "Upload checkpoint.rar, downloaded from https://www.dropbox.com/s/fkoox0t3jwrf92q/checkpoint.rar?dl=0"
      ],
      "metadata": {
        "id": "3VvA2l1RixBu"
      }
    },
    {
      "cell_type": "code",
      "source": [
        "# !wget https://www.dropbox.com/s/fkoox0t3jwrf92q/checkpoint.rar?dl=1\n",
        "!wget https://www.dropbox.com/s/fkoox0t3jwrf92q/checkpoint.rar"
      ],
      "metadata": {
        "colab": {
          "base_uri": "https://localhost:8080/"
        },
        "id": "zB5n-6wSj98E",
        "outputId": "6162f715-bc56-4c3b-c3c2-971ffa281ada"
      },
      "execution_count": null,
      "outputs": [
        {
          "output_type": "stream",
          "name": "stdout",
          "text": [
            "--2022-05-07 12:49:51--  https://www.dropbox.com/s/fkoox0t3jwrf92q/checkpoint.rar\n",
            "Resolving www.dropbox.com (www.dropbox.com)... 162.125.81.18, 2620:100:6030:18::a27d:5012\n",
            "Connecting to www.dropbox.com (www.dropbox.com)|162.125.81.18|:443... connected.\n",
            "HTTP request sent, awaiting response... 301 Moved Permanently\n",
            "Location: /s/raw/fkoox0t3jwrf92q/checkpoint.rar [following]\n",
            "--2022-05-07 12:49:51--  https://www.dropbox.com/s/raw/fkoox0t3jwrf92q/checkpoint.rar\n",
            "Reusing existing connection to www.dropbox.com:443.\n",
            "HTTP request sent, awaiting response... 302 Found\n",
            "Location: https://uce3de60c0f2c9860f9402b7501e.dl.dropboxusercontent.com/cd/0/inline/Bk0WWiaYkWxREtc8d-ZaHJiLjsp2TWUHOcnGA33jpd-n8Zr2l32cAQEYiqXBHjmiT6KcF1re4a_qTB3haZ0ugNJ_oTTvcOmudXRTj23sfjNDukC9FUhjf7bCLw4kWzFpYwj2ycduAPQ5HaJCpTSiVTihTm6iEfBSImTyaZG1oEqhHA/file# [following]\n",
            "--2022-05-07 12:49:52--  https://uce3de60c0f2c9860f9402b7501e.dl.dropboxusercontent.com/cd/0/inline/Bk0WWiaYkWxREtc8d-ZaHJiLjsp2TWUHOcnGA33jpd-n8Zr2l32cAQEYiqXBHjmiT6KcF1re4a_qTB3haZ0ugNJ_oTTvcOmudXRTj23sfjNDukC9FUhjf7bCLw4kWzFpYwj2ycduAPQ5HaJCpTSiVTihTm6iEfBSImTyaZG1oEqhHA/file\n",
            "Resolving uce3de60c0f2c9860f9402b7501e.dl.dropboxusercontent.com (uce3de60c0f2c9860f9402b7501e.dl.dropboxusercontent.com)... 162.125.81.15, 2620:100:6030:15::a27d:500f\n",
            "Connecting to uce3de60c0f2c9860f9402b7501e.dl.dropboxusercontent.com (uce3de60c0f2c9860f9402b7501e.dl.dropboxusercontent.com)|162.125.81.15|:443... connected.\n",
            "HTTP request sent, awaiting response... 302 Found\n",
            "Location: /cd/0/inline2/Bk2FDQelvPnuaj-M6NiDt3SrFu2aUzwL4HtBjOchgaZNSnlcDU7BeJ8Qwi3eeW6fwaI4rQNxjFGTg3Ok-u1LOR_3j8uWsGvR_TZH4Trtsjp8KVmtmuP29a-rTySv49t3ml6JzZJzyrSUvqojWT2soc-hYC9dBZDPMhSTenYm93kTsuMrNYcS8WKYzdY3sT0TK876o6avJ7-9XKjvcqZRijxBG2uO73K9zYtAp6-INemxN2M8yLFDWIaQeqHSNphdawiFdC7AquOX0HWiSLWeiiNNvCHMC5FwPY6vybDd46BPFtFcU3tlV6jsvvhtjTgDR2OSVot0sivDYKn9V_vSvlDwfAFCbRRB2Ph5QPNgOO4RyF1M6hoErBlI5BnVGQhkz3Ozw8kcG5ZiJ8wlOCTQiXDUeq-OGBs8cNC7lnegHE29Cg/file [following]\n",
            "--2022-05-07 12:49:52--  https://uce3de60c0f2c9860f9402b7501e.dl.dropboxusercontent.com/cd/0/inline2/Bk2FDQelvPnuaj-M6NiDt3SrFu2aUzwL4HtBjOchgaZNSnlcDU7BeJ8Qwi3eeW6fwaI4rQNxjFGTg3Ok-u1LOR_3j8uWsGvR_TZH4Trtsjp8KVmtmuP29a-rTySv49t3ml6JzZJzyrSUvqojWT2soc-hYC9dBZDPMhSTenYm93kTsuMrNYcS8WKYzdY3sT0TK876o6avJ7-9XKjvcqZRijxBG2uO73K9zYtAp6-INemxN2M8yLFDWIaQeqHSNphdawiFdC7AquOX0HWiSLWeiiNNvCHMC5FwPY6vybDd46BPFtFcU3tlV6jsvvhtjTgDR2OSVot0sivDYKn9V_vSvlDwfAFCbRRB2Ph5QPNgOO4RyF1M6hoErBlI5BnVGQhkz3Ozw8kcG5ZiJ8wlOCTQiXDUeq-OGBs8cNC7lnegHE29Cg/file\n",
            "Reusing existing connection to uce3de60c0f2c9860f9402b7501e.dl.dropboxusercontent.com:443.\n",
            "HTTP request sent, awaiting response... 200 OK\n",
            "Length: 153750540 (147M) [application/rar]\n",
            "Saving to: ‘checkpoint.rar’\n",
            "\n",
            "checkpoint.rar      100%[===================>] 146.63M  13.6MB/s    in 11s     \n",
            "\n",
            "2022-05-07 12:50:04 (12.9 MB/s) - ‘checkpoint.rar’ saved [153750540/153750540]\n",
            "\n"
          ]
        }
      ]
    },
    {
      "cell_type": "code",
      "source": [
        "!unrar x checkpoint.rar"
      ],
      "metadata": {
        "colab": {
          "base_uri": "https://localhost:8080/"
        },
        "id": "bLXbVyIYiv_T",
        "outputId": "f474b3f4-059c-4bee-e260-3dbe0524d74b"
      },
      "execution_count": null,
      "outputs": [
        {
          "output_type": "stream",
          "name": "stdout",
          "text": [
            "\n",
            "UNRAR 5.50 freeware      Copyright (c) 1993-2017 Alexander Roshal\n",
            "\n",
            "\n",
            "Extracting from checkpoint.rar\n",
            "\n",
            "Creating    checkpoint                                                OK\n",
            "Creating    checkpoint/coarse_112                                     OK\n",
            "Extracting  checkpoint/coarse_112/checkpoint                             \b\b\b\b  0%\b\b\b\b\b  OK \n",
            "Extracting  checkpoint/coarse_112/coarse.model-1500.data-00000-of-00001     \b\b\b\b  2%\b\b\b\b\b  OK \n",
            "Extracting  checkpoint/coarse_112/coarse.model-1500.index                \b\b\b\b  2%\b\b\b\b\b  OK \n",
            "Extracting  checkpoint/coarse_112/coarse.model-1500.meta.tmp5d5afa1ee1af439dab6e40f5a5a748bc     \b\b\b\b  5%\b\b\b\b  8%\b\b\b\b 10%\b\b\b\b 13%\b\b\b\b 16%\b\b\b\b 19%\b\b\b\b 21%\b\b\b\b 24%\b\b\b\b 27%\b\b\b\b 29%\b\b\b\b 32%\b\b\b\b 35%\b\b\b\b 38%\b\b\b\b 40%\b\b\b\b 43%\b\b\b\b 46%\b\b\b\b 49%\b\b\b\b 51%\b\b\b\b 54%\b\b\b\b 57%\b\b\b\b 59%\b\b\b\b 62%\b\b\b\b 65%\b\b\b\b 68%\b\b\b\b 70%\b\b\b\b 73%\b\b\b\b 76%\b\b\b\b 79%\b\b\b\b 81%\b\b\b\b 84%\b\b\b\b 87%\b\b\b\b 89%\b\b\b\b 92%\b\b\b\b 95%\b\b\b\b 98%\b\b\b\b 99%\b\b\b\b\b  OK \n",
            "All OK\n"
          ]
        }
      ]
    },
    {
      "cell_type": "code",
      "source": [
        "checkpoint_dir = \"checkpoint/coarse_112\""
      ],
      "metadata": {
        "id": "mGEpoXACiZmt"
      },
      "execution_count": null,
      "outputs": []
    },
    {
      "cell_type": "markdown",
      "source": [
        "Ref: https://github.com/BIGWangYuDong/UWEnhancement/blob/master/tools/tf2torch.py"
      ],
      "metadata": {
        "id": "9eLUyc4imsz5"
      }
    },
    {
      "cell_type": "code",
      "source": [
        "ckpt = tf.train.get_checkpoint_state(checkpoint_dir)"
      ],
      "metadata": {
        "id": "Br-vUxe0iYHK"
      },
      "execution_count": null,
      "outputs": []
    },
    {
      "cell_type": "code",
      "source": [
        "tfvars = []\n",
        "init_vars = tf.train.list_variables(ckpt.model_checkpoint_path)"
      ],
      "metadata": {
        "id": "ERo9YLYlkiXZ"
      },
      "execution_count": null,
      "outputs": []
    },
    {
      "cell_type": "code",
      "source": [
        "init_vars"
      ],
      "metadata": {
        "colab": {
          "base_uri": "https://localhost:8080/"
        },
        "id": "FTbg27BHkjB3",
        "outputId": "afa1d21a-6cb5-4a09-c4fb-70c2af3b0819"
      },
      "execution_count": null,
      "outputs": [
        {
          "output_type": "execute_result",
          "data": {
            "text/plain": [
              "[('main_branch/conv2wb_1/biases', [128]),\n",
              " ('main_branch/conv2wb_1/w', [7, 7, 12, 128]),\n",
              " ('main_branch/conv2wb_10/biases', [32]),\n",
              " ('main_branch/conv2wb_10/w', [5, 5, 32, 32]),\n",
              " ('main_branch/conv2wb_100/biases', [32]),\n",
              " ('main_branch/conv2wb_100/w', [5, 5, 32, 32]),\n",
              " ('main_branch/conv2wb_1000/biases', [32]),\n",
              " ('main_branch/conv2wb_1000/w', [5, 5, 32, 32]),\n",
              " ('main_branch/conv2wb_11/biases', [3]),\n",
              " ('main_branch/conv2wb_11/w', [3, 3, 32, 3]),\n",
              " ('main_branch/conv2wb_111/biases', [3]),\n",
              " ('main_branch/conv2wb_111/w', [3, 3, 32, 3]),\n",
              " ('main_branch/conv2wb_1111/biases', [3]),\n",
              " ('main_branch/conv2wb_1111/w', [3, 3, 32, 3]),\n",
              " ('main_branch/conv2wb_2/biases', [128]),\n",
              " ('main_branch/conv2wb_2/w', [5, 5, 128, 128]),\n",
              " ('main_branch/conv2wb_3/biases', [128]),\n",
              " ('main_branch/conv2wb_3/w', [3, 3, 128, 128]),\n",
              " ('main_branch/conv2wb_4/biases', [64]),\n",
              " ('main_branch/conv2wb_4/w', [1, 1, 128, 64]),\n",
              " ('main_branch/conv2wb_5/biases', [64]),\n",
              " ('main_branch/conv2wb_5/w', [7, 7, 64, 64]),\n",
              " ('main_branch/conv2wb_6/biases', [64]),\n",
              " ('main_branch/conv2wb_6/w', [5, 5, 64, 64]),\n",
              " ('main_branch/conv2wb_7/biases', [64]),\n",
              " ('main_branch/conv2wb_7/w', [3, 3, 64, 64]),\n",
              " ('main_branch/conv2wb_77/biases', [3]),\n",
              " ('main_branch/conv2wb_77/w', [3, 3, 64, 3]),\n",
              " ('main_branch/conv2wb_9/biases', [32]),\n",
              " ('main_branch/conv2wb_9/w', [7, 7, 6, 32]),\n",
              " ('main_branch/conv2wb_99/biases', [32]),\n",
              " ('main_branch/conv2wb_99/w', [7, 7, 6, 32]),\n",
              " ('main_branch/conv2wb_999/biases', [32]),\n",
              " ('main_branch/conv2wb_999/w', [7, 7, 6, 32])]"
            ]
          },
          "metadata": {},
          "execution_count": 10
        }
      ]
    },
    {
      "cell_type": "markdown",
      "source": [
        "Naming scheme is `main_branch/conv layer/weight or bias`.\n",
        "\n",
        "For reference, `state_dict` of my Pytorch implementation is:\n",
        "\n",
        "```\n",
        "cmg.conv1.weight torch.Size([128, 12, 7, 7])\n",
        "cmg.conv1.bias torch.Size([128])\n",
        "cmg.conv2.weight torch.Size([128, 128, 5, 5])\n",
        "cmg.conv2.bias torch.Size([128])\n",
        "cmg.conv3.weight torch.Size([128, 128, 3, 3])\n",
        "cmg.conv3.bias torch.Size([128])\n",
        "cmg.conv4.weight torch.Size([64, 128, 1, 1])\n",
        "cmg.conv4.bias torch.Size([64])\n",
        "cmg.conv5.weight torch.Size([64, 64, 7, 7])\n",
        "cmg.conv5.bias torch.Size([64])\n",
        "cmg.conv6.weight torch.Size([64, 64, 5, 5])\n",
        "cmg.conv6.bias torch.Size([64])\n",
        "cmg.conv7.weight torch.Size([64, 64, 3, 3])\n",
        "cmg.conv7.bias torch.Size([64])\n",
        "cmg.conv8.weight torch.Size([3, 64, 3, 3])\n",
        "cmg.conv8.bias torch.Size([3])\n",
        "wb_refiner.conv1.weight torch.Size([32, 6, 7, 7])\n",
        "wb_refiner.conv1.bias torch.Size([32])\n",
        "wb_refiner.conv2.weight torch.Size([32, 32, 5, 5])\n",
        "wb_refiner.conv2.bias torch.Size([32])\n",
        "wb_refiner.conv3.weight torch.Size([3, 32, 3, 3])\n",
        "wb_refiner.conv3.bias torch.Size([3])\n",
        "ce_refiner.conv1.weight torch.Size([32, 6, 7, 7])\n",
        "ce_refiner.conv1.bias torch.Size([32])\n",
        "ce_refiner.conv2.weight torch.Size([32, 32, 5, 5])\n",
        "ce_refiner.conv2.bias torch.Size([32])\n",
        "ce_refiner.conv3.weight torch.Size([3, 32, 3, 3])\n",
        "ce_refiner.conv3.bias torch.Size([3])\n",
        "gc_refiner.conv1.weight torch.Size([32, 6, 7, 7])\n",
        "gc_refiner.conv1.bias torch.Size([32])\n",
        "gc_refiner.conv2.weight torch.Size([32, 32, 5, 5])\n",
        "gc_refiner.conv2.bias torch.Size([32])\n",
        "gc_refiner.conv3.weight torch.Size([3, 32, 3, 3])\n",
        "gc_refiner.conv3.bias torch.Size([3])\n",
        "```"
      ],
      "metadata": {
        "id": "LYC2Vr43m7nY"
      }
    },
    {
      "cell_type": "markdown",
      "source": [
        "By observation, biases are all vectors and do not require additional transforms. Weights are pretty much in inverted order."
      ],
      "metadata": {
        "id": "_Zh98Epwo5z8"
      }
    },
    {
      "cell_type": "markdown",
      "source": [
        "Can format into a correct state dict and load it.\n"
      ],
      "metadata": {
        "id": "GzuRKaIIlTyd"
      }
    },
    {
      "cell_type": "code",
      "source": [
        "layer_mapper = {\n",
        "    # Confidence map generator\n",
        "    \"conv2wb_1\": \"cmg.conv1\",\n",
        "    \"conv2wb_2\": \"cmg.conv2\",\n",
        "    \"conv2wb_3\": \"cmg.conv3\",\n",
        "    \"conv2wb_4\": \"cmg.conv4\",\n",
        "    \"conv2wb_5\": \"cmg.conv5\",\n",
        "    \"conv2wb_6\": \"cmg.conv6\",\n",
        "    \"conv2wb_7\": \"cmg.conv7\",\n",
        "    \"conv2wb_77\": \"cmg.conv8\",\n",
        "    # WB refiner\n",
        "    \"conv2wb_9\": \"wb_refiner.conv1\",\n",
        "    \"conv2wb_10\": \"wb_refiner.conv2\",\n",
        "    \"conv2wb_11\": \"wb_refiner.conv3\",\n",
        "    # CE refiner\n",
        "    \"conv2wb_99\": \"ce_refiner.conv1\",\n",
        "    \"conv2wb_100\": \"ce_refiner.conv2\",\n",
        "    \"conv2wb_111\": \"ce_refiner.conv3\",\n",
        "    # GC refiner\n",
        "    \"conv2wb_999\": \"gc_refiner.conv1\",\n",
        "    \"conv2wb_1000\": \"gc_refiner.conv2\",\n",
        "    \"conv2wb_1111\": \"gc_refiner.conv3\",\n",
        "}"
      ],
      "metadata": {
        "id": "fz1_r55hnYQH"
      },
      "execution_count": null,
      "outputs": []
    },
    {
      "cell_type": "code",
      "source": [
        "wt_example = tf.train.load_variable(ckpt.model_checkpoint_path, \"main_branch/conv2wb_999/w\")"
      ],
      "metadata": {
        "id": "pi8PsnzbllUH"
      },
      "execution_count": null,
      "outputs": []
    },
    {
      "cell_type": "code",
      "source": [
        "type(wt_example)"
      ],
      "metadata": {
        "colab": {
          "base_uri": "https://localhost:8080/"
        },
        "id": "LuI7VT1FltDj",
        "outputId": "82d1aa5e-a12b-4886-fb58-948956b96ac5"
      },
      "execution_count": null,
      "outputs": [
        {
          "output_type": "execute_result",
          "data": {
            "text/plain": [
              "numpy.ndarray"
            ]
          },
          "metadata": {},
          "execution_count": 32
        }
      ]
    },
    {
      "cell_type": "code",
      "source": [
        "wt_example.shape"
      ],
      "metadata": {
        "colab": {
          "base_uri": "https://localhost:8080/"
        },
        "id": "2Qwk5uuplv1W",
        "outputId": "e1c20be7-4c36-4134-8ae2-f0114fb6f977"
      },
      "execution_count": null,
      "outputs": [
        {
          "output_type": "execute_result",
          "data": {
            "text/plain": [
              "(7, 7, 6, 32)"
            ]
          },
          "metadata": {},
          "execution_count": 33
        }
      ]
    },
    {
      "cell_type": "code",
      "source": [
        "wt_example.transpose().shape"
      ],
      "metadata": {
        "colab": {
          "base_uri": "https://localhost:8080/"
        },
        "id": "5683p-BFowPG",
        "outputId": "5d8320e0-b114-4a4d-ab7a-6f3d0aaa2706"
      },
      "execution_count": null,
      "outputs": [
        {
          "output_type": "execute_result",
          "data": {
            "text/plain": [
              "(32, 6, 7, 7)"
            ]
          },
          "metadata": {},
          "execution_count": 34
        }
      ]
    },
    {
      "cell_type": "markdown",
      "source": [
        "## Reshape and assign to OrderedDict"
      ],
      "metadata": {
        "id": "UtJA4m0jmZHH"
      }
    },
    {
      "cell_type": "code",
      "source": [
        "wnb = collections.OrderedDict()"
      ],
      "metadata": {
        "id": "T7N-7E4Gl12Z"
      },
      "execution_count": null,
      "outputs": []
    },
    {
      "cell_type": "code",
      "source": [
        "for name, shape in init_vars:\n",
        "    _, og_layer_name, layer_type = name.split(\"/\")\n",
        "    new_layer_name = layer_mapper.get(og_layer_name)\n",
        "\n",
        "    param = tf.train.load_variable(ckpt.model_checkpoint_path, name)\n",
        "    param = np.ascontiguousarray(np.transpose(param))\n",
        "    param = torch.from_numpy(param)\n",
        "\n",
        "    if layer_type == \"biases\":\n",
        "        new_layer_name = new_layer_name + \".bias\"\n",
        "    elif layer_type == \"w\":\n",
        "        new_layer_name = new_layer_name + \".weight\"\n",
        "    else:\n",
        "        pass\n",
        "\n",
        "    wnb[new_layer_name] = param\n",
        "\n",
        "    print(f\"{name} saved as {new_layer_name}\")"
      ],
      "metadata": {
        "colab": {
          "base_uri": "https://localhost:8080/"
        },
        "id": "n01jgjuxlTAx",
        "outputId": "554eaf33-ceb4-4d43-fcce-2670954bd3a1"
      },
      "execution_count": null,
      "outputs": [
        {
          "output_type": "stream",
          "name": "stdout",
          "text": [
            "main_branch/conv2wb_1/biases saved as cmg.conv1.bias\n",
            "main_branch/conv2wb_1/w saved as cmg.conv1.weight\n",
            "main_branch/conv2wb_10/biases saved as wb_refiner.conv2.bias\n",
            "main_branch/conv2wb_10/w saved as wb_refiner.conv2.weight\n",
            "main_branch/conv2wb_100/biases saved as ce_refiner.conv2.bias\n",
            "main_branch/conv2wb_100/w saved as ce_refiner.conv2.weight\n",
            "main_branch/conv2wb_1000/biases saved as gc_refiner.conv2.bias\n",
            "main_branch/conv2wb_1000/w saved as gc_refiner.conv2.weight\n",
            "main_branch/conv2wb_11/biases saved as wb_refiner.conv3.bias\n",
            "main_branch/conv2wb_11/w saved as wb_refiner.conv3.weight\n",
            "main_branch/conv2wb_111/biases saved as ce_refiner.conv3.bias\n",
            "main_branch/conv2wb_111/w saved as ce_refiner.conv3.weight\n",
            "main_branch/conv2wb_1111/biases saved as gc_refiner.conv3.bias\n",
            "main_branch/conv2wb_1111/w saved as gc_refiner.conv3.weight\n",
            "main_branch/conv2wb_2/biases saved as cmg.conv2.bias\n",
            "main_branch/conv2wb_2/w saved as cmg.conv2.weight\n",
            "main_branch/conv2wb_3/biases saved as cmg.conv3.bias\n",
            "main_branch/conv2wb_3/w saved as cmg.conv3.weight\n",
            "main_branch/conv2wb_4/biases saved as cmg.conv4.bias\n",
            "main_branch/conv2wb_4/w saved as cmg.conv4.weight\n",
            "main_branch/conv2wb_5/biases saved as cmg.conv5.bias\n",
            "main_branch/conv2wb_5/w saved as cmg.conv5.weight\n",
            "main_branch/conv2wb_6/biases saved as cmg.conv6.bias\n",
            "main_branch/conv2wb_6/w saved as cmg.conv6.weight\n",
            "main_branch/conv2wb_7/biases saved as cmg.conv7.bias\n",
            "main_branch/conv2wb_7/w saved as cmg.conv7.weight\n",
            "main_branch/conv2wb_77/biases saved as cmg.conv8.bias\n",
            "main_branch/conv2wb_77/w saved as cmg.conv8.weight\n",
            "main_branch/conv2wb_9/biases saved as wb_refiner.conv1.bias\n",
            "main_branch/conv2wb_9/w saved as wb_refiner.conv1.weight\n",
            "main_branch/conv2wb_99/biases saved as ce_refiner.conv1.bias\n",
            "main_branch/conv2wb_99/w saved as ce_refiner.conv1.weight\n",
            "main_branch/conv2wb_999/biases saved as gc_refiner.conv1.bias\n",
            "main_branch/conv2wb_999/w saved as gc_refiner.conv1.weight\n"
          ]
        }
      ]
    },
    {
      "cell_type": "code",
      "source": [
        "with open(\"waternet-exported-state-dict.pkl\", \"wb\") as f:\n",
        "    pickle.dump(wnb, f)"
      ],
      "metadata": {
        "id": "mIR6k1OhmCKY"
      },
      "execution_count": null,
      "outputs": []
    }
  ]
}